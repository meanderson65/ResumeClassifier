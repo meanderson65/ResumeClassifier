{
 "cells": [
  {
   "cell_type": "markdown",
   "id": "f250950e",
   "metadata": {},
   "source": [
    "# **Resume Categorizer**"
   ]
  },
  {
   "cell_type": "markdown",
   "id": "bff56ac4-77ee-4b95-bead-f116fdddc638",
   "metadata": {},
   "source": [
    "##### <b>Author:</b> Intro to Machine Learning Team  \n",
    "<b>Date:</b> 20 Aug 2024  \n",
    "<b>Location:</b> UCSC Extention   \n",
    "<b>Program:</b> Artificial Intelligence Application Development  \n",
    "<b>Course:</b> Intro to Machine Learning  \n",
    "<b>Assignment:</b> Class Project"
   ]
  },
  {
   "cell_type": "markdown",
   "id": "e732ab42",
   "metadata": {},
   "source": [
    "# Assignment\n",
    "\n",
    "This notebook focuses on developing a machine learning model to automatically categorize resumes into predefined job-related categories (e.g., Data Science, Software Development & QA, Sales & Marketing) based on the textual content within each resume. The process involves analyzing the text data, including job descriptions, skills, education, and experience, to assign each resume to the most relevant category. The goal is to create a robust and accurate model that can help automate resume screening, reducing time and effort in the recruitment process. Text preprocessing, vectorization, and dimensionality reduction and classification are applied to achieve a model capable of accurate resume categorization for recruitment and filtering purposes.\n",
    "\n",
    "We have used the following techniques for dimensionality reduction and classification:\n",
    "\n",
    "- **LSA (TruncatedSVD):** A technique to reduce the dimensionality of text data while capturing the underlying semantic structure.\n",
    "- **CNN (Convolutional Neural Networks):** A deep learning approach that directly learns features from text data.\n",
    "- **PCA** PCA (Principal Component Analysis) is used for dimensionality reduction.\n",
    "\n",
    "We have used the following techniques for classification:\n",
    "\n",
    "- **Logistic Regression:** A linear classifier used for predicting categorical outcomes, applied to the features extracted from CNN-based dimensionality reduction.\n",
    "- **Naive Bayes:** A probabilistic classifier used after PCA-based dimensionality reduction, leveraging the assumption of feature independence to classify data into categories."
   ]
  },
  {
   "cell_type": "markdown",
   "id": "1cf0b8fe",
   "metadata": {},
   "source": [
    "# Steps\n",
    "\n",
    "0. Data Wrangling\n",
    "1. Import Libraries\n",
    "2. Load Data\n",
    "3. Exploratory Data Analysis\n",
    "4. Test and Train Split\n",
    "5. Pre-Processing\n",
    "6. Vectorization - TfidfVectorizer\n",
    "7. Dimensionality Reduction\n",
    "    - LSA (TruncatedSVD)\n",
    "    - CNN\n",
    "    - PCA\n",
    "8. Classification\n",
    "   - Logistic Regression\n",
    "   - Naive Bayes\n",
    "9. Final Model Deployment\n",
    "10. Results\n",
    "11. Model Comparison"
   ]
  },
  {
   "cell_type": "markdown",
   "id": "f2982e39",
   "metadata": {},
   "source": [
    "# 1. Import Libraries"
   ]
  },
  {
   "cell_type": "code",
   "execution_count": 6,
   "id": "413472e1",
   "metadata": {},
   "outputs": [
    {
     "name": "stderr",
     "output_type": "stream",
     "text": [
      "[nltk_data] Downloading package punkt to\n",
      "[nltk_data]     /Users/liamhammer/nltk_data...\n",
      "[nltk_data]   Package punkt is already up-to-date!\n",
      "[nltk_data] Downloading package stopwords to\n",
      "[nltk_data]     /Users/liamhammer/nltk_data...\n",
      "[nltk_data]   Package stopwords is already up-to-date!\n",
      "2024-08-20 17:42:45.839689: I tensorflow/core/platform/cpu_feature_guard.cc:210] This TensorFlow binary is optimized to use available CPU instructions in performance-critical operations.\n",
      "To enable the following instructions: AVX2 FMA, in other operations, rebuild TensorFlow with the appropriate compiler flags.\n"
     ]
    }
   ],
   "source": [
    "import numpy as np             # Needed for numerical computations of multidimensional matrices\n",
    "import pandas as pd            # We will use this for formatting and displaying data\n",
    "import re                      # for regular expression operations\n",
    "import joblib                  # serialization and deserialization of Python objects\n",
    "\n",
    "import seaborn as sns              # creating attractive and informative statistical graphics, including heatmaps and plots\n",
    "import matplotlib.pyplot as plt    # for generating graphics\n",
    "\n",
    "import nltk                        # Natural Language Tool Kit\n",
    "nltk.download('punkt')             # One time download\n",
    "nltk.download('stopwords')         # One time download\n",
    "\n",
    "from nltk.tokenize import word_tokenize            # split text into individual words.\n",
    "from nltk.corpus import stopwords                  # access common stop words (e.g., 'and', 'the') used in text preprocessing.\n",
    "from nltk.stem.snowball import SnowballStemmer     # reducing words to their root form using the Snowball algorithm# Initialize Snowball stemmer for English\n",
    "stemmer = SnowballStemmer(\"english\")\n",
    "stem_dict = {}                                     # Initialize an empty dictionary for stemmed to original word mapping\n",
    "\n",
    "import time  # Import the time module\n",
    "\n",
    "from sklearn.preprocessing import StandardScaler                 # standardizing features by removing the mean and scaling to unit variance\n",
    "from sklearn.linear_model import LogisticRegression              #  Implement the Logistic Regression model for binary and multi-class classification task\n",
    "from sklearn.model_selection import StratifiedKFold              # Facilitate cross-validation by splitting the dataset into folds\n",
    "from sklearn.feature_extraction.text import TfidfVectorizer      # Transforms text data into numerical features using tf-idf\n",
    "from sklearn.model_selection import train_test_split             # divides a dataset into training and testing subsets\n",
    "from sklearn.model_selection import GridSearchCV                 # exhaustive search over a specified parameter grid for an estimator\n",
    "from sklearn.pipeline import Pipeline                            # for chaining together multiple processing steps and a final estimator into a single workflow\n",
    "from sklearn.decomposition import TruncatedSVD                   # dimensionality reduction using Singular Value Decomposition (SVD)\n",
    "from sklearn.metrics import accuracy_score, precision_score, recall_score, f1_score, confusion_matrix, classification_report\n",
    "from sklearn.metrics import ConfusionMatrixDisplay               # visualizing the confusion matrix of classification results\n",
    "from sklearn.model_selection import cross_val_score              # evaluating the model using cross-validation\n",
    "from sklearn.decomposition import PCA                            # performing Principal Component Analysis (PCA) for dimensionality reduction\n",
    "from sklearn.naive_bayes import GaussianNB                       # using the Gaussian Naive Bayes classifier\n",
    "from sklearn.model_selection import StratifiedKFold              # performing stratified k-fold cross-validation\n",
    "\n",
    "\n",
    "import tensorflow as tf                                     # TensorFlow library and aliases it as tf\n",
    "from tensorflow.keras.models import Sequential              # Creates models where layers are added in a linear stack\n",
    "from tensorflow.keras.models import Model                   # more complex models with multiple inputs and outputs\n",
    "from tensorflow.keras.layers import Conv1D                  # applies 1D convolutional operations to the input data\n",
    "from tensorflow.keras.layers import GlobalMaxPooling1D      # performs global max pooling on 1D input\n",
    "from tensorflow.keras.layers import Dense                   # fully connected layer used to create neurons in a layer with each neuron connected to every neuron in the previous layer\n",
    "from tensorflow.keras.layers import Input                   # define the input shape and create input tensors for the model\n",
    "\n",
    "import warnings\n",
    "warnings.filterwarnings('ignore')"
   ]
  },
  {
   "cell_type": "markdown",
   "id": "cabd2d91-064f-45f2-8594-a59ffdf8d1a9",
   "metadata": {},
   "source": [
    "# 2. Load Data\n",
    "\n",
    "This step loads the data from a .csv file with 363 resumes"
   ]
  },
  {
   "cell_type": "code",
   "execution_count": 8,
   "id": "324b7019",
   "metadata": {
    "scrolled": true
   },
   "outputs": [
    {
     "data": {
      "text/html": [
       "<div>\n",
       "<style scoped>\n",
       "    .dataframe tbody tr th:only-of-type {\n",
       "        vertical-align: middle;\n",
       "    }\n",
       "\n",
       "    .dataframe tbody tr th {\n",
       "        vertical-align: top;\n",
       "    }\n",
       "\n",
       "    .dataframe thead th {\n",
       "        text-align: right;\n",
       "    }\n",
       "</style>\n",
       "<table border=\"1\" class=\"dataframe\">\n",
       "  <thead>\n",
       "    <tr style=\"text-align: right;\">\n",
       "      <th></th>\n",
       "      <th>Unnamed: 0</th>\n",
       "      <th>Resume Category</th>\n",
       "      <th>Cleaned Resume Text</th>\n",
       "    </tr>\n",
       "  </thead>\n",
       "  <tbody>\n",
       "    <tr>\n",
       "      <th>0</th>\n",
       "      <td>0</td>\n",
       "      <td>Facilities and Operations</td>\n",
       "      <td>Professional Experience Training Program Assis...</td>\n",
       "    </tr>\n",
       "    <tr>\n",
       "      <th>1</th>\n",
       "      <td>1</td>\n",
       "      <td>Facilities and Operations</td>\n",
       "      <td>SUMMARY OF QUALIFICATIONS Maintained customer ...</td>\n",
       "    </tr>\n",
       "    <tr>\n",
       "      <th>2</th>\n",
       "      <td>2</td>\n",
       "      <td>Engineering Roles</td>\n",
       "      <td>Objective RampD Assembly and Test Operator Cha...</td>\n",
       "    </tr>\n",
       "    <tr>\n",
       "      <th>3</th>\n",
       "      <td>3</td>\n",
       "      <td>Engineering Roles</td>\n",
       "      <td>SUMMARY An EMC Test Engineer with years of ext...</td>\n",
       "    </tr>\n",
       "    <tr>\n",
       "      <th>4</th>\n",
       "      <td>4</td>\n",
       "      <td>Management</td>\n",
       "      <td>Hello Im currently working on a degree in Spor...</td>\n",
       "    </tr>\n",
       "  </tbody>\n",
       "</table>\n",
       "</div>"
      ],
      "text/plain": [
       "   Unnamed: 0            Resume Category  \\\n",
       "0           0  Facilities and Operations   \n",
       "1           1  Facilities and Operations   \n",
       "2           2          Engineering Roles   \n",
       "3           3          Engineering Roles   \n",
       "4           4                 Management   \n",
       "\n",
       "                                 Cleaned Resume Text  \n",
       "0  Professional Experience Training Program Assis...  \n",
       "1  SUMMARY OF QUALIFICATIONS Maintained customer ...  \n",
       "2  Objective RampD Assembly and Test Operator Cha...  \n",
       "3  SUMMARY An EMC Test Engineer with years of ext...  \n",
       "4  Hello Im currently working on a degree in Spor...  "
      ]
     },
     "execution_count": 8,
     "metadata": {},
     "output_type": "execute_result"
    }
   ],
   "source": [
    "# load the data from the csv file\n",
    "\n",
    "resumes_df = pd.read_csv(\"resumes_categories_363.csv\")\n",
    "resumes_df.head()   # display the first five rows"
   ]
  },
  {
   "cell_type": "markdown",
   "id": "290a9793",
   "metadata": {},
   "source": [
    "# 3. Exploratory Data Analysis\n",
    "\n",
    "This section focuses on sanitizing the text, preparing it for further processing such as tokenization, vectorization (e.g., TF-IDF), or model training. It does not delve into more detailed analysis or exploration of the data's structure and patterns. We will carry out:\n",
    "\n",
    "- **Shape and Info:** Review the basic structure and summary of the dataset.\n",
    "- **Drop Column:** Remove unnecessary columns from the dataset.\n",
    "- **Unique Job Titles:** Check for unique job titles\n",
    "- **Check for Class Distribution:** Analyze the distribution of different classes in the dataset.\n",
    "- **Visualization Data:** Create visualizations to better understand the data distribution and patterns.\n"
   ]
  },
  {
   "cell_type": "markdown",
   "id": "2e9637b5-1f81-48a9-aa5a-7a1eea5e0bce",
   "metadata": {},
   "source": [
    "#### 3.1 Shape and Info"
   ]
  },
  {
   "cell_type": "code",
   "execution_count": 11,
   "id": "f7f9654c",
   "metadata": {},
   "outputs": [
    {
     "data": {
      "text/plain": [
       "(363, 3)"
      ]
     },
     "execution_count": 11,
     "metadata": {},
     "output_type": "execute_result"
    }
   ],
   "source": [
    "resumes_df.shape   # list the rows and columns of data"
   ]
  },
  {
   "cell_type": "code",
   "execution_count": 12,
   "id": "fcaf274e",
   "metadata": {},
   "outputs": [
    {
     "name": "stdout",
     "output_type": "stream",
     "text": [
      "<class 'pandas.core.frame.DataFrame'>\n",
      "RangeIndex: 363 entries, 0 to 362\n",
      "Data columns (total 3 columns):\n",
      " #   Column               Non-Null Count  Dtype \n",
      "---  ------               --------------  ----- \n",
      " 0   Unnamed: 0           363 non-null    int64 \n",
      " 1   Resume Category      363 non-null    object\n",
      " 2   Cleaned Resume Text  363 non-null    object\n",
      "dtypes: int64(1), object(2)\n",
      "memory usage: 8.6+ KB\n"
     ]
    }
   ],
   "source": [
    "resumes_df.info()     # list the information about the data"
   ]
  },
  {
   "cell_type": "markdown",
   "id": "d82553f8-e96f-4ea8-89fa-d7a61d9d10d0",
   "metadata": {},
   "source": [
    "#### 3.2 Drop Unnamed Column"
   ]
  },
  {
   "cell_type": "code",
   "execution_count": 14,
   "id": "60d725d9",
   "metadata": {},
   "outputs": [
    {
     "data": {
      "text/html": [
       "<div>\n",
       "<style scoped>\n",
       "    .dataframe tbody tr th:only-of-type {\n",
       "        vertical-align: middle;\n",
       "    }\n",
       "\n",
       "    .dataframe tbody tr th {\n",
       "        vertical-align: top;\n",
       "    }\n",
       "\n",
       "    .dataframe thead th {\n",
       "        text-align: right;\n",
       "    }\n",
       "</style>\n",
       "<table border=\"1\" class=\"dataframe\">\n",
       "  <thead>\n",
       "    <tr style=\"text-align: right;\">\n",
       "      <th></th>\n",
       "      <th>Resume Category</th>\n",
       "      <th>Cleaned Resume Text</th>\n",
       "    </tr>\n",
       "  </thead>\n",
       "  <tbody>\n",
       "    <tr>\n",
       "      <th>0</th>\n",
       "      <td>Facilities and Operations</td>\n",
       "      <td>Professional Experience Training Program Assis...</td>\n",
       "    </tr>\n",
       "    <tr>\n",
       "      <th>1</th>\n",
       "      <td>Facilities and Operations</td>\n",
       "      <td>SUMMARY OF QUALIFICATIONS Maintained customer ...</td>\n",
       "    </tr>\n",
       "    <tr>\n",
       "      <th>2</th>\n",
       "      <td>Engineering Roles</td>\n",
       "      <td>Objective RampD Assembly and Test Operator Cha...</td>\n",
       "    </tr>\n",
       "    <tr>\n",
       "      <th>3</th>\n",
       "      <td>Engineering Roles</td>\n",
       "      <td>SUMMARY An EMC Test Engineer with years of ext...</td>\n",
       "    </tr>\n",
       "    <tr>\n",
       "      <th>4</th>\n",
       "      <td>Management</td>\n",
       "      <td>Hello Im currently working on a degree in Spor...</td>\n",
       "    </tr>\n",
       "  </tbody>\n",
       "</table>\n",
       "</div>"
      ],
      "text/plain": [
       "             Resume Category  \\\n",
       "0  Facilities and Operations   \n",
       "1  Facilities and Operations   \n",
       "2          Engineering Roles   \n",
       "3          Engineering Roles   \n",
       "4                 Management   \n",
       "\n",
       "                                 Cleaned Resume Text  \n",
       "0  Professional Experience Training Program Assis...  \n",
       "1  SUMMARY OF QUALIFICATIONS Maintained customer ...  \n",
       "2  Objective RampD Assembly and Test Operator Cha...  \n",
       "3  SUMMARY An EMC Test Engineer with years of ext...  \n",
       "4  Hello Im currently working on a degree in Spor...  "
      ]
     },
     "execution_count": 14,
     "metadata": {},
     "output_type": "execute_result"
    }
   ],
   "source": [
    "# drop \"Unnamed\" column (first column)\n",
    "# Bug: running this code repeatedly keeps deleting the first column\n",
    "\n",
    "resumes_df = resumes_df.drop(resumes_df.columns[0], axis=1)\n",
    "resumes_df.head()  # display the first five rows"
   ]
  },
  {
   "cell_type": "markdown",
   "id": "2c3d78da-211b-41b0-80bf-fd3f84e37bef",
   "metadata": {},
   "source": [
    "#### 3.3 Check for Unique Job Titles"
   ]
  },
  {
   "cell_type": "code",
   "execution_count": 16,
   "id": "0ae2f10d-148c-4936-a958-2af18a5fdbe6",
   "metadata": {},
   "outputs": [
    {
     "name": "stdout",
     "output_type": "stream",
     "text": [
      "Columns in the DataFrame: Index(['Resume Category', 'Cleaned Resume Text'], dtype='object')\n",
      "We got 11 unique titles out of 100 resumes \n",
      "['Facilities and Operations' 'Engineering Roles' 'Management'\n",
      " 'Information Technology (IT)' 'Data Science & Analysis' 'Clinical Roles'\n",
      " 'Technical Support' 'Sales & Marketing' 'Research Roles'\n",
      " 'Software Development & QA' 'Creative Roles']\n"
     ]
    }
   ],
   "source": [
    "# check for unique job titles and print them out\n",
    "\n",
    "# Print column names to verify\n",
    "print(\"Columns in the DataFrame:\", resumes_df.columns)\n",
    "\n",
    "# Define the correct column name for job titles\n",
    "column_name = \"Resume Category\"  # Replace with the actual column name if different\n",
    "\n",
    "# Check if the column exists and print unique job titles\n",
    "if column_name in resumes_df.columns:\n",
    "    unique_job_titles = resumes_df[column_name].unique()\n",
    "    print(f\"We got {len(unique_job_titles)} unique titles out of 100 resumes \\n{unique_job_titles}\")\n",
    "else:\n",
    "    print(f\"Column '{column_name}' not found in the DataFrame.\")"
   ]
  },
  {
   "cell_type": "markdown",
   "id": "1dc4b7e9-4654-4afe-b62a-2252a0879df9",
   "metadata": {},
   "source": [
    "#### 3.4 Check for Class Distribution"
   ]
  },
  {
   "cell_type": "code",
   "execution_count": 18,
   "id": "94778e06-326e-46f9-9001-f64b12ebc178",
   "metadata": {},
   "outputs": [
    {
     "name": "stdout",
     "output_type": "stream",
     "text": [
      "Class distribution:\n",
      "Resume Category\n",
      "Engineering Roles              157\n",
      "Information Technology (IT)     73\n",
      "Technical Support               41\n",
      "Clinical Roles                  31\n",
      "Facilities and Operations       18\n",
      "Management                      15\n",
      "Data Science & Analysis         11\n",
      "Research Roles                   8\n",
      "Software Development & QA        5\n",
      "Sales & Marketing                2\n",
      "Creative Roles                   2\n",
      "Name: count, dtype: int64\n"
     ]
    }
   ],
   "source": [
    "# Check class distribution\n",
    "\n",
    "class_counts = resumes_df['Resume Category'].value_counts()\n",
    "print(f\"Class distribution:\\n{class_counts}\")"
   ]
  },
  {
   "cell_type": "markdown",
   "id": "bec22a8c-ac26-4e31-95fe-09da3410291d",
   "metadata": {},
   "source": [
    "#### 3.5 Visualizing Data"
   ]
  },
  {
   "cell_type": "code",
   "execution_count": 20,
   "id": "0c14e0a0-e331-4ab3-9d36-adfdf89091a9",
   "metadata": {},
   "outputs": [
    {
     "data": {
      "image/png": "[encoded data removed]",
      "text/plain": [
       "<Figure size 1200x600 with 1 Axes>"
      ]
     },
     "metadata": {},
     "output_type": "display_data"
    }
   ],
   "source": [
    "# Plot the distribution of resume categories\n",
    "\n",
    "plt.figure(figsize=(12, 6))\n",
    "sns.countplot(y=resumes_df['Resume Category'])\n",
    "plt.title('Distribution of Resume Categories')\n",
    "plt.xlabel('Count')\n",
    "plt.ylabel('Category')\n",
    "plt.show()"
   ]
  },
  {
   "cell_type": "code",
   "execution_count": 21,
   "id": "15b69ae8-85c9-40ef-9724-b26479ea4c7c",
   "metadata": {},
   "outputs": [
    {
     "data": {
      "image/png": "[encoded data removed]",
      "text/plain": [
       "<Figure size 1200x600 with 1 Axes>"
      ]
     },
     "metadata": {},
     "output_type": "display_data"
    }
   ],
   "source": [
    "# Plot text length distribution\n",
    "\n",
    "resumes_df['text_length'] = resumes_df['Cleaned Resume Text'].apply(lambda x: len(x.split()))\n",
    "plt.figure(figsize=(12, 6))\n",
    "sns.histplot(resumes_df['text_length'], bins=30, kde=True)\n",
    "plt.title('Distribution of Resume Text Length')\n",
    "plt.xlabel('Number of Words')\n",
    "plt.ylabel('Frequency')\n",
    "plt.show()"
   ]
  },
  {
   "cell_type": "code",
   "execution_count": 22,
   "id": "d2051657-c3f6-40e9-b4eb-efdd70bd91cc",
   "metadata": {},
   "outputs": [
    {
     "data": {
      "image/png": "[encoded data removed]",
      "text/plain": [
       "<Figure size 800x800 with 1 Axes>"
      ]
     },
     "metadata": {},
     "output_type": "display_data"
    }
   ],
   "source": [
    "# Prepare the class distribution DataFrame\n",
    "\n",
    "count_df = class_counts.reset_index()\n",
    "count_df.columns = ['Category', 'Count']\n",
    "\n",
    "# Plot pie chart of resume categories\n",
    "plt.figure(figsize=(8, 8))\n",
    "plt.pie(count_df['Count'], labels=count_df['Category'], autopct='%1.1f%%', startangle=140)\n",
    "plt.axis('equal')  # Set aspect ratio to be equal so circles appear circular\n",
    "plt.title('Pie Chart of Resume Categories')\n",
    "plt.show()\n"
   ]
  },
  {
   "cell_type": "code",
   "execution_count": 23,
   "id": "a343991e",
   "metadata": {},
   "outputs": [
    {
     "data": {
      "text/html": [
       "<div>\n",
       "<style scoped>\n",
       "    .dataframe tbody tr th:only-of-type {\n",
       "        vertical-align: middle;\n",
       "    }\n",
       "\n",
       "    .dataframe tbody tr th {\n",
       "        vertical-align: top;\n",
       "    }\n",
       "\n",
       "    .dataframe thead th {\n",
       "        text-align: right;\n",
       "    }\n",
       "</style>\n",
       "<table border=\"1\" class=\"dataframe\">\n",
       "  <thead>\n",
       "    <tr style=\"text-align: right;\">\n",
       "      <th></th>\n",
       "      <th>Resume Category</th>\n",
       "      <th>Cleaned Resume Text</th>\n",
       "      <th>text_length</th>\n",
       "    </tr>\n",
       "  </thead>\n",
       "  <tbody>\n",
       "    <tr>\n",
       "      <th>0</th>\n",
       "      <td>Facilities and Operations</td>\n",
       "      <td>Professional Experience Training Program Assis...</td>\n",
       "      <td>377</td>\n",
       "    </tr>\n",
       "    <tr>\n",
       "      <th>1</th>\n",
       "      <td>Facilities and Operations</td>\n",
       "      <td>SUMMARY OF QUALIFICATIONS Maintained customer ...</td>\n",
       "      <td>381</td>\n",
       "    </tr>\n",
       "    <tr>\n",
       "      <th>2</th>\n",
       "      <td>Engineering Roles</td>\n",
       "      <td>Objective RampD Assembly and Test Operator Cha...</td>\n",
       "      <td>717</td>\n",
       "    </tr>\n",
       "    <tr>\n",
       "      <th>3</th>\n",
       "      <td>Engineering Roles</td>\n",
       "      <td>SUMMARY An EMC Test Engineer with years of ext...</td>\n",
       "      <td>326</td>\n",
       "    </tr>\n",
       "    <tr>\n",
       "      <th>4</th>\n",
       "      <td>Management</td>\n",
       "      <td>Hello Im currently working on a degree in Spor...</td>\n",
       "      <td>496</td>\n",
       "    </tr>\n",
       "  </tbody>\n",
       "</table>\n",
       "</div>"
      ],
      "text/plain": [
       "             Resume Category  \\\n",
       "0  Facilities and Operations   \n",
       "1  Facilities and Operations   \n",
       "2          Engineering Roles   \n",
       "3          Engineering Roles   \n",
       "4                 Management   \n",
       "\n",
       "                                 Cleaned Resume Text  text_length  \n",
       "0  Professional Experience Training Program Assis...          377  \n",
       "1  SUMMARY OF QUALIFICATIONS Maintained customer ...          381  \n",
       "2  Objective RampD Assembly and Test Operator Cha...          717  \n",
       "3  SUMMARY An EMC Test Engineer with years of ext...          326  \n",
       "4  Hello Im currently working on a degree in Spor...          496  "
      ]
     },
     "execution_count": 23,
     "metadata": {},
     "output_type": "execute_result"
    }
   ],
   "source": [
    "# Change this to numpy array\n",
    "\n",
    "resumes = resumes_df.to_numpy()\n",
    "resumes_df.head()   # display the first five rows"
   ]
  },
  {
   "cell_type": "markdown",
   "id": "bf161ea2-4026-4ef0-94e9-eb2d2d7fa459",
   "metadata": {},
   "source": [
    "# 4. Test and Train Split \n",
    "\n",
    "Test and Train Split in NLP involves dividing the dataset into two subsets: a training set used to build and train the model, and a test set used to evaluate its performance. This ensures that the model generalizes well to unseen data.\n",
    "\n",
    "**Step 1:** As a first step, we will divide the resumes_df dataframe into a label vector (y) and a feature vector (X). In this case the feature vector (X) will only have one feature (the text of the resume)\n",
    "\n",
    "**Step 2:** We will then split the X and y dataframes into X_train, X-test and y_train and y_test"
   ]
  },
  {
   "cell_type": "code",
   "execution_count": 25,
   "id": "13cbbf33-cf31-445f-a80d-c8260a57ec58",
   "metadata": {},
   "outputs": [],
   "source": [
    "# Features and target\n",
    "\n",
    "X = resumes_df['Cleaned Resume Text']  # Feature: Cleaned Resume Text\n",
    "y = resumes_df['Resume Category']      # Target: Resume Category\n",
    "\n",
    "# Generate indices\n",
    "indices = resumes_df.index\n",
    "\n",
    "# Split the data into training and test sets\n",
    "X_train, X_test, y_train, y_test = train_test_split(X, y, test_size=0.25, random_state=0)"
   ]
  },
  {
   "cell_type": "code",
   "execution_count": 26,
   "id": "c3be415a-bd44-4419-8c70-6cfb193c8d95",
   "metadata": {},
   "outputs": [
    {
     "name": "stdout",
     "output_type": "stream",
     "text": [
      "\n",
      "X_train:\n",
      "\n",
      "347    A passionate and hardworking person seeking fo...\n",
      "102    ABOUT ME SKILLS Recently graduated mechanical ...\n",
      "327    Newly Licensed Registered Nurse Dublin Califor...\n",
      "135    User amp Customer Experience Research My objec...\n",
      "237    IT specialist with over years of indepth techn...\n",
      "Name: Cleaned Resume Text, dtype: object\n"
     ]
    }
   ],
   "source": [
    "# Print X_train\n",
    "\n",
    "print(\"\\nX_train:\\n\")\n",
    "print(X_train.head())  # Print the first few rows of X_train for preview"
   ]
  },
  {
   "cell_type": "code",
   "execution_count": 27,
   "id": "3db48812-8fa9-4ff0-9c41-d61cdf1bed16",
   "metadata": {},
   "outputs": [
    {
     "name": "stdout",
     "output_type": "stream",
     "text": [
      "\n",
      "y_train:\n",
      "\n",
      "347    Engineering Roles\n",
      "102    Technical Support\n",
      "327       Clinical Roles\n",
      "135    Engineering Roles\n",
      "237    Engineering Roles\n",
      "Name: Resume Category, dtype: object\n"
     ]
    }
   ],
   "source": [
    "# Print y_train\n",
    "\n",
    "print(\"\\ny_train:\\n\")\n",
    "print(y_train.head())  # Print the first few rows of y_train for preview"
   ]
  },
  {
   "cell_type": "code",
   "execution_count": 28,
   "id": "42907623-20df-49ad-a0e3-c8d74d5929a7",
   "metadata": {},
   "outputs": [
    {
     "name": "stdout",
     "output_type": "stream",
     "text": [
      "X_train shape: (272,)\n",
      "y_train shape: (272,)\n"
     ]
    }
   ],
   "source": [
    "# Print shapes of X_train and y_train\n",
    "\n",
    "print(\"X_train shape:\", X_train.shape)\n",
    "print(\"y_train shape:\", y_train.shape)"
   ]
  },
  {
   "cell_type": "code",
   "execution_count": 29,
   "id": "5219aae6-a550-44e2-8cbc-002944148918",
   "metadata": {},
   "outputs": [
    {
     "data": {
      "text/plain": [
       "11"
      ]
     },
     "execution_count": 29,
     "metadata": {},
     "output_type": "execute_result"
    }
   ],
   "source": [
    "# calculate the number of unique classes or labels present in the y_train array.\n",
    "\n",
    "len(np.unique(y_train))"
   ]
  },
  {
   "cell_type": "markdown",
   "id": "35f74aaa-7919-4e45-b8f2-f570d499edba",
   "metadata": {},
   "source": [
    "# 5. Pre-Processing"
   ]
  },
  {
   "cell_type": "markdown",
   "id": "644f2514",
   "metadata": {},
   "source": [
    "This sequence of pre-processing steps is designed to prepare text data for Natural Language Processing (NLP) tasks by cleaning and simplifying it. Pre-processing steps like tokenization, sanitization, stemming, and others are typically necessary before vectorization, especially in Natural Language Processing (NLP) tasks. Following are the steps:\n",
    "\n",
    "- **Data Cleaning**: Removing punctuation and converting text to lowercase.\n",
    "- **Tokenization**: Tokenizing text data.\n",
    "- **Stopword Removal**: Removing stopwords from tokenized text.\n",
    "- **Stemming**: Applying stemming to the filtered tokens.\n",
    "- **Preprocessing Function**: A unified function to handle all steps if needed."
   ]
  },
  {
   "cell_type": "markdown",
   "id": "07f45342-2497-42fc-9e36-034a70d0b6ea",
   "metadata": {},
   "source": [
    "#### 5.1 Data Cleaning"
   ]
  },
  {
   "cell_type": "code",
   "execution_count": 33,
   "id": "22cdb35d-cd9d-407d-a5d3-cd0cffba20ca",
   "metadata": {},
   "outputs": [],
   "source": [
    "# Function to carry out Data Cleaning\n",
    "\n",
    "def clean_text(text):\n",
    "    text = re.sub(r'[^\\w\\s]', '', text)  # Remove punctuation\n",
    "    text = text.lower()  # Convert to lowercase\n",
    "    return text"
   ]
  },
  {
   "cell_type": "code",
   "execution_count": 34,
   "id": "bb98fc51-8b9c-4ba0-ba6d-090ea8a4b578",
   "metadata": {},
   "outputs": [],
   "source": [
    "# Apply data cleaning function to the training and test sets\n",
    "\n",
    "X_train_cleaned = X_train.apply(clean_text)  # clean the X_train dataset\n",
    "X_test_cleaned = X_test.apply(clean_text)    # clean the X_test dataset"
   ]
  },
  {
   "cell_type": "code",
   "execution_count": 35,
   "id": "2bf0248c-3c81-4325-90c6-40279a2dcd0a",
   "metadata": {},
   "outputs": [
    {
     "data": {
      "text/plain": [
       "347    a passionate and hardworking person seeking fo...\n",
       "102    about me skills recently graduated mechanical ...\n",
       "327    newly licensed registered nurse dublin califor...\n",
       "135    user amp customer experience research my objec...\n",
       "237    it specialist with over years of indepth techn...\n",
       "Name: Cleaned Resume Text, dtype: object"
      ]
     },
     "execution_count": 35,
     "metadata": {},
     "output_type": "execute_result"
    }
   ],
   "source": [
    "X_train_cleaned.head() # display the first five records of X_train"
   ]
  },
  {
   "cell_type": "markdown",
   "id": "86b88ded-4c83-4f96-b295-3766ad98fcd6",
   "metadata": {},
   "source": [
    "#### 5.2 Tokenization"
   ]
  },
  {
   "cell_type": "code",
   "execution_count": 37,
   "id": "8790085d-8f2e-41c9-99a8-3cb05fa028b5",
   "metadata": {},
   "outputs": [],
   "source": [
    "# Initialize stopwords and stemmer\n",
    "\n",
    "stop_words = set(stopwords.words('english'))   # Create a set of English stop words for text processing using the NLTK library\n",
    "stemmer = SnowballStemmer(\"english\")           # Initialize a Snowball stemmer for stemming English words using the nltk library"
   ]
  },
  {
   "cell_type": "markdown",
   "id": "9e0ca9e5-b5e3-4fb4-b6ec-c7a7e99f171f",
   "metadata": {},
   "source": [
    "#### 5.3 Remove Stop Words from tokenized text"
   ]
  },
  {
   "cell_type": "code",
   "execution_count": 39,
   "id": "ab5285e9-d517-40a7-9ed1-93ad8effb380",
   "metadata": {},
   "outputs": [],
   "source": [
    "# Function to remove stopwords\n",
    "\n",
    "def remove_stopwords(text):\n",
    "    tokens = word_tokenize(text)  # Tokenize text\n",
    "    filtered_tokens = [word for word in tokens if word not in stop_words and word.isalnum()]  # Remove stopwords and non-alphanumeric tokens\n",
    "    return ' '.join(filtered_tokens)  # Join tokens back to a string"
   ]
  },
  {
   "cell_type": "code",
   "execution_count": 40,
   "id": "9ad831c6-c4ce-461c-8377-ff2e56f4a666",
   "metadata": {},
   "outputs": [],
   "source": [
    "# # Apply stopword removal to the training data\n",
    "X_train_cleaned = X_train_cleaned.apply(remove_stopwords)\n",
    "\n",
    "# Apply stopword removal to the test data\n",
    "X_test_cleaned = X_test_cleaned.apply(remove_stopwords)"
   ]
  },
  {
   "cell_type": "code",
   "execution_count": 41,
   "id": "d3d7ebd5-6a0d-4f97-95cc-1a5fb437d2a5",
   "metadata": {},
   "outputs": [
    {
     "data": {
      "text/plain": [
       "347    passionate hardworking person seeking fulltime...\n",
       "102    skills recently graduated mechanical engineer ...\n",
       "327    newly licensed registered nurse dublin califor...\n",
       "135    user amp customer experience research objectiv...\n",
       "237    specialist years indepth technical insight pro...\n",
       "Name: Cleaned Resume Text, dtype: object"
      ]
     },
     "execution_count": 41,
     "metadata": {},
     "output_type": "execute_result"
    }
   ],
   "source": [
    "X_train_cleaned.head()  # display first five rows of cleaned trained feature set (X_train_cleaned)"
   ]
  },
  {
   "cell_type": "markdown",
   "id": "e905ebc6-922f-42e1-a60d-39fa4776ddfb",
   "metadata": {},
   "source": [
    "#### 5.4 Stemming"
   ]
  },
  {
   "cell_type": "code",
   "execution_count": 43,
   "id": "011afee7-78a3-43a2-bb84-e87b5cfcaba8",
   "metadata": {},
   "outputs": [],
   "source": [
    "# Function to apply stemming\n",
    "\n",
    "def apply_stemming(text):\n",
    "    tokens = word_tokenize(text)  # Tokenize the processed text\n",
    "    stemmed_tokens = [stemmer.stem(word) for word in tokens]  # Apply stemming\n",
    "    return ' '.join(stemmed_tokens)  # Join tokens back to a string"
   ]
  },
  {
   "cell_type": "code",
   "execution_count": 44,
   "id": "b5a3f61d-ca04-45c2-a8de-ce479cb16fa3",
   "metadata": {},
   "outputs": [],
   "source": [
    "# Apply stemming to the cleaned text in training set and store the result in X_train_final\n",
    "X_train_final = X_train_cleaned.apply(apply_stemming)\n",
    "\n",
    "# Apply stemming to the cleaned text in test set and store the result in X_test_final\n",
    "X_test_final = X_test_cleaned.apply(apply_stemming)"
   ]
  },
  {
   "cell_type": "code",
   "execution_count": 45,
   "id": "c351dbf9-842c-4851-bd81-196354ace262",
   "metadata": {},
   "outputs": [
    {
     "data": {
      "text/plain": [
       "347    passion hardwork person seek fulltim parttim p...\n",
       "102    skill recent graduat mechan engin seek challen...\n",
       "327    newli licens regist nurs dublin california uni...\n",
       "135    user amp custom experi research object provid ...\n",
       "237    specialist year indepth technic insight produc...\n",
       "Name: Cleaned Resume Text, dtype: object"
      ]
     },
     "execution_count": 45,
     "metadata": {},
     "output_type": "execute_result"
    }
   ],
   "source": [
    "X_train_final.head( ) # display the first five rows of the stemmed training feature dataset (X_train_final)"
   ]
  },
  {
   "cell_type": "markdown",
   "id": "44848bb1-485a-406d-9464-7c14c9946e3a",
   "metadata": {},
   "source": [
    "#### 5.5 Preprocessing Function: A unified function to handle all steps if needed"
   ]
  },
  {
   "cell_type": "code",
   "execution_count": 47,
   "id": "3c89ae66",
   "metadata": {},
   "outputs": [],
   "source": [
    "# Tokenization, stopword removal, and stemming combined in one function\n",
    "\n",
    "def preprocess(text):\n",
    "    text = clean_text(text)  # Data Cleaning\n",
    "    text = remove_stopwords(text)  # Stopword Removal\n",
    "    text = apply_stemming(text)  # Stemming\n",
    "    return text"
   ]
  },
  {
   "cell_type": "markdown",
   "id": "42160a4d",
   "metadata": {},
   "source": [
    "# 6. Vectorization\n",
    "\n",
    "Vectorization in NLP converts text data (words or documents) into numerical vectors, enabling machine learning models to process and analyze the text. Common vectorization methods include TF-IDF, Word2Vec, and BERT.. We are using the TF-IDF Vectorizer for Vectorization. \n",
    "\n",
    "**TF-IDF** (Term Frequency-Inverse Document Frequency) converts text data into numerical vectors by calculating the document's TF-IDF scores for each term. These scores represent the importance of the terms within the text, allowing the document to be represented as a feature vector, which can then be used for machine learning models and other NLP tasks. Here are the steps:\n",
    "\n",
    "- **Initialize the TF-IDF Vectorizer**: Set up the `TfidfVectorizer` with specific parameters like `max_features`, `use_idf`, `sublinear_tf`, `smooth_idf`, `min_df`, and `max_df` to configure how the text data will be transformed.\n",
    "- **Transform Preprocessed Text Data**: Apply the TF-IDF vectorizer to convert the list of preprocessed resumes into a numerical feature matrix.\n",
    "- **Check TF-IDF Matrix Shape**: Print the shape of the TF-IDF matrix to verify the number of features and documents.\n",
    "- **Convert TF-IDF Matrix to Dense DataFrame**: Convert the sparse TF-IDF matrix into a dense DataFrame and display the first few rows with columns labeled by the TF-IDF terms.\n",
    "- **Convert TF-IDF Matrix to Array**: Convert the TF-IDF matrix from sparse to dense array format for further use in machine learning models."
   ]
  },
  {
   "cell_type": "markdown",
   "id": "07081ee5-d522-41ff-90b2-9bf7fa8744b3",
   "metadata": {},
   "source": [
    "#### 6.1 Initialize the TF-IDF Vectorizer"
   ]
  },
  {
   "cell_type": "code",
   "execution_count": 50,
   "id": "08580114-b94f-4c56-8f46-febe9399a231",
   "metadata": {},
   "outputs": [],
   "source": [
    "# Initialize a TF-IDF vectorizer with specific parameters\n",
    "\n",
    "vectorizer_tfidf = TfidfVectorizer(\n",
    "    max_features=1000,       # Limit the number of features\n",
    "    use_idf=True,            # Enable inverse document frequency weighting\n",
    "    sublinear_tf=True,       # Apply sublinear term frequency scaling\n",
    "    smooth_idf=True,         # Smooth IDF weights by adding 1 to document frequencies\n",
    "    min_df=0.013,            # Minimum document frequency\n",
    "    max_df=0.95              # Maximum document frequency\n",
    ")"
   ]
  },
  {
   "cell_type": "markdown",
   "id": "7cc016f0-bd68-4f0f-8d9e-e281efdd7211",
   "metadata": {},
   "source": [
    "#### 6.2 Transform Text Data to TF-IDF Feature Matrix"
   ]
  },
  {
   "cell_type": "code",
   "execution_count": 52,
   "id": "4c4bd2be-81cd-4379-9218-14792eb3df85",
   "metadata": {},
   "outputs": [],
   "source": [
    "# Convert the cleaned and stemmed text into TF-IDF feature matrices\n",
    "\n",
    "X_train_matrix = vectorizer_tfidf.fit_transform(X_train_final)\n",
    "X_test_matrix = vectorizer_tfidf.transform(X_test_final)"
   ]
  },
  {
   "cell_type": "code",
   "execution_count": 53,
   "id": "94c39220-a25e-479d-a9f0-0e5212105063",
   "metadata": {},
   "outputs": [
    {
     "name": "stdout",
     "output_type": "stream",
     "text": [
      "Training TF-IDF feature matrix shape: (272, 1000)\n",
      "Test TF-IDF feature matrix shape: (91, 1000)\n"
     ]
    }
   ],
   "source": [
    "# Print the shape of the TF-IDF feature matrices\n",
    "\n",
    "print(f\"Training TF-IDF feature matrix shape: {X_train_matrix.shape}\")  # e.g., (number_of_samples, 1000)\n",
    "print(f\"Test TF-IDF feature matrix shape: {X_test_matrix.shape}\")       # e.g., (number_of_samples, 1000)"
   ]
  },
  {
   "cell_type": "markdown",
   "id": "8b09f6cf-bd81-411c-af19-74089ce181cb",
   "metadata": {},
   "source": [
    "#### 6.3 Convert TF-IDF Matrix to Dense DataFrame"
   ]
  },
  {
   "cell_type": "code",
   "execution_count": 55,
   "id": "e0fd89a7-ce3b-4c97-87e5-94d8cea8521b",
   "metadata": {},
   "outputs": [
    {
     "name": "stdout",
     "output_type": "stream",
     "text": [
      "\n",
      "Training Data TF-IDF Matrix (Dense Dataframe:\n",
      "\n"
     ]
    },
    {
     "data": {
      "text/html": [
       "<div>\n",
       "<style scoped>\n",
       "    .dataframe tbody tr th:only-of-type {\n",
       "        vertical-align: middle;\n",
       "    }\n",
       "\n",
       "    .dataframe tbody tr th {\n",
       "        vertical-align: top;\n",
       "    }\n",
       "\n",
       "    .dataframe thead th {\n",
       "        text-align: right;\n",
       "    }\n",
       "</style>\n",
       "<table border=\"1\" class=\"dataframe\">\n",
       "  <thead>\n",
       "    <tr style=\"text-align: right;\">\n",
       "      <th></th>\n",
       "      <th>abil</th>\n",
       "      <th>abl</th>\n",
       "      <th>academ</th>\n",
       "      <th>accept</th>\n",
       "      <th>access</th>\n",
       "      <th>accomplish</th>\n",
       "      <th>accord</th>\n",
       "      <th>account</th>\n",
       "      <th>accur</th>\n",
       "      <th>accuraci</th>\n",
       "      <th>...</th>\n",
       "      <th>within</th>\n",
       "      <th>word</th>\n",
       "      <th>work</th>\n",
       "      <th>worker</th>\n",
       "      <th>workflow</th>\n",
       "      <th>workshop</th>\n",
       "      <th>write</th>\n",
       "      <th>written</th>\n",
       "      <th>wrote</th>\n",
       "      <th>year</th>\n",
       "    </tr>\n",
       "  </thead>\n",
       "  <tbody>\n",
       "    <tr>\n",
       "      <th>0</th>\n",
       "      <td>0.0</td>\n",
       "      <td>0.0</td>\n",
       "      <td>0.0</td>\n",
       "      <td>0.000000</td>\n",
       "      <td>0.000000</td>\n",
       "      <td>0.0</td>\n",
       "      <td>0.136711</td>\n",
       "      <td>0.0</td>\n",
       "      <td>0.000000</td>\n",
       "      <td>0.0</td>\n",
       "      <td>...</td>\n",
       "      <td>0.000000</td>\n",
       "      <td>0.0</td>\n",
       "      <td>0.077482</td>\n",
       "      <td>0.0</td>\n",
       "      <td>0.000000</td>\n",
       "      <td>0.0</td>\n",
       "      <td>0.0</td>\n",
       "      <td>0.0</td>\n",
       "      <td>0.0</td>\n",
       "      <td>0.000000</td>\n",
       "    </tr>\n",
       "    <tr>\n",
       "      <th>1</th>\n",
       "      <td>0.0</td>\n",
       "      <td>0.0</td>\n",
       "      <td>0.0</td>\n",
       "      <td>0.000000</td>\n",
       "      <td>0.000000</td>\n",
       "      <td>0.0</td>\n",
       "      <td>0.000000</td>\n",
       "      <td>0.0</td>\n",
       "      <td>0.058429</td>\n",
       "      <td>0.0</td>\n",
       "      <td>...</td>\n",
       "      <td>0.000000</td>\n",
       "      <td>0.0</td>\n",
       "      <td>0.000000</td>\n",
       "      <td>0.0</td>\n",
       "      <td>0.000000</td>\n",
       "      <td>0.0</td>\n",
       "      <td>0.0</td>\n",
       "      <td>0.0</td>\n",
       "      <td>0.0</td>\n",
       "      <td>0.042363</td>\n",
       "    </tr>\n",
       "    <tr>\n",
       "      <th>2</th>\n",
       "      <td>0.0</td>\n",
       "      <td>0.0</td>\n",
       "      <td>0.0</td>\n",
       "      <td>0.067256</td>\n",
       "      <td>0.030395</td>\n",
       "      <td>0.0</td>\n",
       "      <td>0.032048</td>\n",
       "      <td>0.0</td>\n",
       "      <td>0.000000</td>\n",
       "      <td>0.0</td>\n",
       "      <td>...</td>\n",
       "      <td>0.026207</td>\n",
       "      <td>0.0</td>\n",
       "      <td>0.024812</td>\n",
       "      <td>0.0</td>\n",
       "      <td>0.000000</td>\n",
       "      <td>0.0</td>\n",
       "      <td>0.0</td>\n",
       "      <td>0.0</td>\n",
       "      <td>0.0</td>\n",
       "      <td>0.051841</td>\n",
       "    </tr>\n",
       "    <tr>\n",
       "      <th>3</th>\n",
       "      <td>0.0</td>\n",
       "      <td>0.0</td>\n",
       "      <td>0.0</td>\n",
       "      <td>0.000000</td>\n",
       "      <td>0.081341</td>\n",
       "      <td>0.0</td>\n",
       "      <td>0.000000</td>\n",
       "      <td>0.0</td>\n",
       "      <td>0.000000</td>\n",
       "      <td>0.0</td>\n",
       "      <td>...</td>\n",
       "      <td>0.000000</td>\n",
       "      <td>0.0</td>\n",
       "      <td>0.039216</td>\n",
       "      <td>0.0</td>\n",
       "      <td>0.000000</td>\n",
       "      <td>0.0</td>\n",
       "      <td>0.0</td>\n",
       "      <td>0.0</td>\n",
       "      <td>0.0</td>\n",
       "      <td>0.000000</td>\n",
       "    </tr>\n",
       "    <tr>\n",
       "      <th>4</th>\n",
       "      <td>0.0</td>\n",
       "      <td>0.0</td>\n",
       "      <td>0.0</td>\n",
       "      <td>0.000000</td>\n",
       "      <td>0.000000</td>\n",
       "      <td>0.0</td>\n",
       "      <td>0.000000</td>\n",
       "      <td>0.0</td>\n",
       "      <td>0.000000</td>\n",
       "      <td>0.0</td>\n",
       "      <td>...</td>\n",
       "      <td>0.052833</td>\n",
       "      <td>0.0</td>\n",
       "      <td>0.029542</td>\n",
       "      <td>0.0</td>\n",
       "      <td>0.064608</td>\n",
       "      <td>0.0</td>\n",
       "      <td>0.0</td>\n",
       "      <td>0.0</td>\n",
       "      <td>0.0</td>\n",
       "      <td>0.043796</td>\n",
       "    </tr>\n",
       "  </tbody>\n",
       "</table>\n",
       "<p>5 rows × 1000 columns</p>\n",
       "</div>"
      ],
      "text/plain": [
       "   abil  abl  academ    accept    access  accomplish    accord  account  \\\n",
       "0   0.0  0.0     0.0  0.000000  0.000000         0.0  0.136711      0.0   \n",
       "1   0.0  0.0     0.0  0.000000  0.000000         0.0  0.000000      0.0   \n",
       "2   0.0  0.0     0.0  0.067256  0.030395         0.0  0.032048      0.0   \n",
       "3   0.0  0.0     0.0  0.000000  0.081341         0.0  0.000000      0.0   \n",
       "4   0.0  0.0     0.0  0.000000  0.000000         0.0  0.000000      0.0   \n",
       "\n",
       "      accur  accuraci  ...    within  word      work  worker  workflow  \\\n",
       "0  0.000000       0.0  ...  0.000000   0.0  0.077482     0.0  0.000000   \n",
       "1  0.058429       0.0  ...  0.000000   0.0  0.000000     0.0  0.000000   \n",
       "2  0.000000       0.0  ...  0.026207   0.0  0.024812     0.0  0.000000   \n",
       "3  0.000000       0.0  ...  0.000000   0.0  0.039216     0.0  0.000000   \n",
       "4  0.000000       0.0  ...  0.052833   0.0  0.029542     0.0  0.064608   \n",
       "\n",
       "   workshop  write  written  wrote      year  \n",
       "0       0.0    0.0      0.0    0.0  0.000000  \n",
       "1       0.0    0.0      0.0    0.0  0.042363  \n",
       "2       0.0    0.0      0.0    0.0  0.051841  \n",
       "3       0.0    0.0      0.0    0.0  0.000000  \n",
       "4       0.0    0.0      0.0    0.0  0.043796  \n",
       "\n",
       "[5 rows x 1000 columns]"
      ]
     },
     "execution_count": 55,
     "metadata": {},
     "output_type": "execute_result"
    }
   ],
   "source": [
    "# Get feature names from the TF-IDF vectorizer\n",
    "terms_tfidf = np.array(vectorizer_tfidf.get_feature_names_out())\n",
    "\n",
    "# Convert the sparse TF-IDF matrix to a dense DataFrame and display the first 5 rows for training data\n",
    "df_train_tfidf = pd.DataFrame(X_train_matrix.todense()[:5], columns=terms_tfidf)\n",
    "print(\"\\nTraining Data TF-IDF Matrix (Dense Dataframe:\\n\")\n",
    "df_train_tfidf.head()"
   ]
  },
  {
   "cell_type": "markdown",
   "id": "36213dca-802f-41b1-a9fd-49c18cae3a76",
   "metadata": {},
   "source": [
    "#### 6.4 Convert TF-IDF Matrix to Array"
   ]
  },
  {
   "cell_type": "code",
   "execution_count": 57,
   "id": "893cfa19-3325-4113-a44d-c7783cc4851a",
   "metadata": {},
   "outputs": [
    {
     "name": "stdout",
     "output_type": "stream",
     "text": [
      "[[0.         0.         0.         ... 0.         0.         0.        ]\n",
      " [0.         0.         0.         ... 0.         0.         0.04236283]\n",
      " [0.         0.         0.         ... 0.         0.         0.05184087]\n",
      " [0.         0.         0.         ... 0.         0.         0.        ]\n",
      " [0.         0.         0.         ... 0.         0.         0.043796  ]]\n"
     ]
    }
   ],
   "source": [
    "# Convert the TF-IDF feature matrix to a dense array for training data\n",
    "X_train_array = X_train_matrix.toarray()  # Dense array for training data\n",
    "print(X_train_array[:5])"
   ]
  },
  {
   "cell_type": "code",
   "execution_count": 58,
   "id": "2dc6db53-0357-4ecb-947a-6b27a33ed179",
   "metadata": {},
   "outputs": [
    {
     "name": "stdout",
     "output_type": "stream",
     "text": [
      "[[0.06746973 0.         0.         ... 0.         0.         0.04960627]\n",
      " [0.         0.12266952 0.         ... 0.         0.         0.        ]\n",
      " [0.         0.         0.         ... 0.         0.         0.09248408]\n",
      " [0.         0.         0.         ... 0.         0.         0.10975162]\n",
      " [0.         0.         0.         ... 0.         0.         0.        ]]\n"
     ]
    }
   ],
   "source": [
    "# Convert the TF-IDF feature matrix to a dense array for test data\n",
    "X_test_array = X_test_matrix.toarray()    # Dense array for test data\n",
    "print(X_test_array[:5])"
   ]
  },
  {
   "cell_type": "code",
   "execution_count": 59,
   "id": "39a73ed3-513d-40e9-a4ef-e59fb1e5045c",
   "metadata": {},
   "outputs": [
    {
     "name": "stdout",
     "output_type": "stream",
     "text": [
      "Training Data Dense Array Shape: (272, 1000)\n",
      "Test Data Dense Array Shape: (91, 1000)\n"
     ]
    }
   ],
   "source": [
    "# Verify the shapes of the dense arrays\n",
    "print(f\"Training Data Dense Array Shape: {X_train_array.shape}\")\n",
    "print(f\"Test Data Dense Array Shape: {X_test_array.shape}\")"
   ]
  },
  {
   "cell_type": "code",
   "execution_count": 60,
   "id": "0662cfde",
   "metadata": {},
   "outputs": [],
   "source": [
    "# Convert the TF-IDF feature matrix of the training data to a dense array\n",
    "X_train_dense = X_train_matrix.toarray()\n",
    "\n",
    "# Convert the TF-IDF feature matrix of the test data to a dense array\n",
    "X_test_dense = X_test_matrix.toarray()"
   ]
  },
  {
   "cell_type": "markdown",
   "id": "6dd3c41a-b33d-4768-93d1-1f8899acec15",
   "metadata": {},
   "source": [
    "# 7. Dimensionality Reduction"
   ]
  },
  {
   "cell_type": "markdown",
   "id": "a96fdad4-30fb-4457-a0ef-d2d7c01d4dad",
   "metadata": {},
   "source": [
    "For our two-column resume dataset containing text and categories, dimensionality reduction is essential to manage the high-dimensional feature space generated by vectorizing text data. It simplifies the model by reducing the number of features, which enhances computational efficiency, accelerates training and prediction, and improves model performance by focusing on significant features and reducing noise. Additionally, it aids in interpretability by making the data and model outcomes easier to understand, ultimately leading to more effective and efficient processing of the resume data.\n",
    "\n",
    "This step will explore dimensionality reduction using three techniques: LSA (TruncatedSVD), CNN, and PCA with Naive Bayes.\n",
    "\n",
    "1. **LSA (Latent Semantic Analysis) / TruncatedSVD**:    \n",
    "   - Purpose: This method reduces the number of features by projecting the data into a lower-dimensional space while preserving the most significant information.  \n",
    "   - How It Works: LSA uses Singular Value Decomposition (SVD) to identify patterns and relationships in the data, effectively compressing the feature space and capturing essential semantic structures.\n",
    "\n",
    "\n",
    "2. **CNN (Convolutional Neural Networks)**:  \n",
    "   - Purpose: Primarily used for extracting features from data, especially in image and text data, and can be used to reduce dimensionality by learning lower-dimensional representations.    \n",
    "   - How It Works: CNNs apply convolutional filters to the data, extracting hierarchical features that can be used to represent the data in a more compact form.\n",
    "\n",
    "\n",
    "3. **PCA**:   \n",
    "   - Purpose: Combines Principal Component Analysis (PCA) for dimensionality reduction  \n",
    "   - How It Works: PCA reduces the dimensionality of the dataset by projecting it onto the principal components"
   ]
  },
  {
   "cell_type": "markdown",
   "id": "d6668349-d82b-4e27-af0f-53bbeb44052b",
   "metadata": {},
   "source": [
    "## 7.1 LSA (TruncatedSVD)\n",
    "\n",
    "In this step, **Latent Semantic Analysis (LSA)** is applied to reduce the dimensionality of the vectorized text data. LSA helps extract underlying patterns and relationships within the resume text, improving the classification model's performance.\n",
    "\n",
    "To implement LSA, we use **TruncatedSVD**, a variant of Singular Value Decomposition (SVD) that approximates the decomposition of the TF-IDF matrix to reduce the number of dimensions. This reduces computational complexity and highlights the most important components in the resume data without losing significant information.\n",
    "\n",
    "Dimensionality reduction is especially critical when working with unstructured text data, as it can often have many dimensions (e.g., each word becomes a feature). TruncatedSVD simplifies the feature space, making the model more efficient and less prone to overfitting. Here are the steps:\n",
    "\n",
    "Dimensionality reduction is crucial in handling unstructured text data, which often has many features (e.g., each word as a feature). TruncatedSVD helps in simplifying the feature space, enhancing model efficiency, and reducing overfitting risks. The following steps are involved:\n",
    "\n",
    "- **Classification Pipeline:** Defines the machine learning pipeline that includes scaling, dimensionality reduction with TruncatedSVD, and classification. This pipeline ensures a streamlined process from preprocessing to classification.\n",
    "- **Hyperparameter Tuning with GridSearchCV:** Utilizes GridSearchCV to find the optimal number of components (`n_components`) for TruncatedSVD. This step involves testing various values to select the one that offers the best cross-validation performance.\n",
    "- **Execution Time Measurement:** Measures the execution time of GridSearchCV to understand the computational cost and efficiency of the hyperparameter tuning process. This helps in assessing whether further optimization is needed."
   ]
  },
  {
   "cell_type": "markdown",
   "id": "21b5decb-4add-40fb-bd90-6fea2a494057",
   "metadata": {},
   "source": [
    "##### 7.1.1 Classification Pipeline\n",
    "\n",
    "- This part defines the machine learning pipeline, which includes **scaling**, **dimensionality reduction using TruncatedSVD**, and the **classifier** used for categorizing resumes.\n",
    "  \n",
    "- The pipeline ensures that the entire process, from preprocessing to classification, is streamlined.\n"
   ]
  },
  {
   "cell_type": "code",
   "execution_count": 65,
   "id": "9916ec87-a5c0-42ff-8a5f-8909f9e5a2dd",
   "metadata": {},
   "outputs": [],
   "source": [
    "# Define the machine learning pipeline with scaling, dimensionality reduction, and classification\n",
    "# Initialize the pipeline with StandardScaler (with_mean=False) to handle sparse matrices\n",
    "\n",
    "pipe = Pipeline([\n",
    "    ('scaler', StandardScaler(with_mean=False)),  # Standardizes the features\n",
    "    ('svd', TruncatedSVD()),                     # Applies dimensionality reduction\n",
    "    ('clf', LogisticRegression(max_iter=1000))   # Classification model\n",
    "])"
   ]
  },
  {
   "cell_type": "markdown",
   "id": "ef221da2",
   "metadata": {},
   "source": [
    "##### 7.1.2 Hyperparameter Tuning with GridSearchCV\n",
    "\n",
    "- **GridSearchCV** is used to find the optimal number of components (`n_components`) for **TruncatedSVD**. This is critical for selecting the right number of dimensions that balance model performance and computational efficiency.\n",
    "  \n",
    "- The grid search tests multiple values of `n_components` and chooses the one that yields the best cross-validation score."
   ]
  },
  {
   "cell_type": "code",
   "execution_count": 67,
   "id": "ff40a6a9-2d78-4517-988b-3752829c410a",
   "metadata": {},
   "outputs": [],
   "source": [
    "# Define parameter grid for GridSearchCV\n",
    "param_grid = {\n",
    "    'svd__n_components': np.arange(10, 1000, 100)  # Test different numbers of SVD components\n",
    "}"
   ]
  },
  {
   "cell_type": "markdown",
   "id": "0d9af20a-2da1-4f4a-be42-5c4b225b0bd6",
   "metadata": {},
   "source": [
    "##### 7.1.3 Execution Time Measurement\n",
    "- This step involves timing the **GridSearchCV** execution to understand the computational cost of the process.\n",
    "  \n",
    "- The time taken is printed to give insight into the efficiency of the tuning process and whether further optimization might be needed.\n",
    "\n",
    "- This provides a structured breakdown of the steps involved in TruncatedSVD for dimensionality reduction and classification.\n"
   ]
  },
  {
   "cell_type": "code",
   "execution_count": 69,
   "id": "49a4f82b",
   "metadata": {},
   "outputs": [
    {
     "name": "stdout",
     "output_type": "stream",
     "text": [
      "Best parameters: {'svd__n_components': 110}\n",
      "Time taken: 10.99 seconds\n",
      "Best score achieved during the grid search: 0.6249158249158249\n"
     ]
    }
   ],
   "source": [
    "# Start timing the execution\n",
    "start_time = time.time()\n",
    "\n",
    "# Perform GridSearchCV with StratifiedKFold cross-validation\n",
    "grid_search = GridSearchCV(pipe, param_grid, cv=StratifiedKFold(n_splits=5))\n",
    "grid_search.fit(X_train_matrix, y_train)  # Fit the grid search to the training data\n",
    "\n",
    "# End timing the execution\n",
    "end_time = time.time()\n",
    "elapsed_time = end_time - start_time  # Calculate the elapsed time\n",
    "\n",
    "# Print the results\n",
    "print(f\"Best parameters: {grid_search.best_params_}\")  # Print the best parameters found\n",
    "print(f\"Time taken: {elapsed_time:.2f} seconds\")  # Print the time taken\n",
    "print(f\"Best score achieved during the grid search: {grid_search.best_score_}\")  # Print the best score"
   ]
  },
  {
   "cell_type": "markdown",
   "id": "7bb9b90f-1505-4962-aaa4-ec89a902a985",
   "metadata": {},
   "source": [
    "##### 7.1.4. Hyperparameter Tuning\n",
    "\n",
    "In this step, we refine the search for the optimal number of components (`n_components`) for **TruncatedSVD** using multiple runs of **GridSearchCV**. The goal is to find the most effective number of components for dimensionality reduction and improve the performance of the classifier.\n",
    "\n",
    "Multiple runs of hyperparameter tuning help refine results by narrowing the search range, improving accuracy, and ensuring consistency. They allow for more precise parameter settings and better balance between model performance and computational efficiency."
   ]
  },
  {
   "cell_type": "markdown",
   "id": "69305d38-59b3-4517-8af1-74e881d97f27",
   "metadata": {},
   "source": [
    "###### 7.1.4.1 Second Run\n",
    "\n",
    "We refine the search for the optimal number of components (n_components) for TruncatedSVD by testing values from 1 to 100 in steps of 10. It performs this search using 5-fold cross-validation to determine the best number of components and measures the time required for this search."
   ]
  },
  {
   "cell_type": "code",
   "execution_count": 72,
   "id": "87db8da2",
   "metadata": {},
   "outputs": [
    {
     "name": "stdout",
     "output_type": "stream",
     "text": [
      "Best number of components: 91\n",
      "Time taken for grid search: 9.99 seconds\n",
      "Best score achieved during the grid search: 0.6285521885521886\n"
     ]
    }
   ],
   "source": [
    "# refine the search for the optimal number of components (n_components) for TruncatedSVD by testing values \n",
    "# from 1 to 100 in steps of 10. It performs this search using 5-fold cross-validation to determine the best \n",
    "# number of components and measures the time required for this search.\n",
    "\n",
    "param_grid = {\n",
    "    'svd__n_components': np.arange(1, 110, 10)  # Refine search from 1 to 100 in steps of 10\n",
    "}\n",
    "\n",
    "# Start timing the execution\n",
    "start_time = time.time()\n",
    "\n",
    "# Perform GridSearchCV with 5-fold cross-validation\n",
    "grid_search = GridSearchCV(pipe, param_grid, cv=5)\n",
    "grid_search.fit(X_train_matrix, y_train)  # Fit the grid search to the training data\n",
    "\n",
    "# End timing the execution\n",
    "end_time = time.time()\n",
    "\n",
    "# Print the results for the second run\n",
    "print(f\"Best number of components: {grid_search.best_params_['svd__n_components']}\")\n",
    "print(f\"Time taken for grid search: {end_time - start_time:.2f} seconds\")\n",
    "print(f\"Best score achieved during the grid search: {grid_search.best_score_}\")"
   ]
  },
  {
   "cell_type": "markdown",
   "id": "81e01b9d-27e5-41a5-962d-359bbd3a5ae8",
   "metadata": {},
   "source": [
    "##### 7.1.4.2 Third Run\n",
    "\n",
    "This code refines the search for the optimal n_components for TruncatedSVD to a range from 1 to 30, in increments  of 5. It uses 5-fold cross-validation to find the best number of components and measures the time required for  this search.\n"
   ]
  },
  {
   "cell_type": "code",
   "execution_count": 74,
   "id": "3a7c718e",
   "metadata": {},
   "outputs": [
    {
     "name": "stdout",
     "output_type": "stream",
     "text": [
      "Best number of components: 6\n",
      "Time taken for grid search: 6.48 seconds\n",
      "Best score achieved during the grid search: 0.5993939393939394\n"
     ]
    }
   ],
   "source": [
    "# Define the parameter grid for the number of components in SVD\n",
    "param_grid = {\n",
    "    'svd__n_components': np.arange(1, 35, 5)  # Range from 1 to 30 in increments of 5\n",
    "}\n",
    "\n",
    "# Start timing the execution\n",
    "start_time = time.time()\n",
    "\n",
    "# Perform GridSearchCV with 5-fold cross-validation\n",
    "grid_search = GridSearchCV(pipe, param_grid, cv=StratifiedKFold(n_splits=5))\n",
    "grid_search.fit(X_train_matrix, y_train)  # Use X_train_matrix instead of X_train\n",
    "\n",
    "# End timing the execution\n",
    "end_time = time.time()\n",
    "\n",
    "# Print the results for the third run\n",
    "print(f\"Best number of components: {grid_search.best_params_['svd__n_components']}\")\n",
    "print(f\"Time taken for grid search: {end_time - start_time:.2f} seconds\")\n",
    "print(f\"Best score achieved during the grid search: {grid_search.best_score_}\")"
   ]
  },
  {
   "cell_type": "markdown",
   "id": "db8a4885-866a-408a-a74f-d59b994d074a",
   "metadata": {},
   "source": [
    "#### 7.1.5 Model Evaluation - LSA (TruncatedSVD)\n",
    "\n",
    "The model's performance is evaluated using accuracy, precision, recall, and F1 score. Accuracy provides the overall correctness of predictions, while precision and recall give insights into the performance of individual classes. The F1 score balances precision and recall.\n",
    "\n",
    "A confusion matrix visualizes the model's performance across different classes, highlighting any misclassifications. Cross-validation ensures that the model's performance is consistent and reliable across different subsets of the training data."
   ]
  },
  {
   "cell_type": "code",
   "execution_count": 76,
   "id": "38d2ffe5-a0f5-49cb-a987-8357f7bc4b14",
   "metadata": {},
   "outputs": [
    {
     "name": "stdout",
     "output_type": "stream",
     "text": [
      "\n",
      "Classification Report for Best Model:\n",
      "                             precision    recall  f1-score   support\n",
      "\n",
      "             Clinical Roles       0.86      1.00      0.92         6\n",
      "    Data Science & Analysis       0.00      0.00      0.00         3\n",
      "          Engineering Roles       0.67      0.80      0.73        46\n",
      "  Facilities and Operations       0.00      0.00      0.00         4\n",
      "Information Technology (IT)       0.45      0.71      0.56        14\n",
      "                 Management       0.00      0.00      0.00         2\n",
      "             Research Roles       0.00      0.00      0.00         2\n",
      "  Software Development & QA       0.00      0.00      0.00         1\n",
      "          Technical Support       0.00      0.00      0.00        13\n",
      "\n",
      "                   accuracy                           0.58        91\n",
      "                  macro avg       0.22      0.28      0.25        91\n",
      "               weighted avg       0.47      0.58      0.52        91\n",
      "\n",
      "\n",
      "Accuracy: 0.58\n",
      "Precision: 0.47\n",
      "Recall: 0.58\n",
      "F1 Score: 0.52\n"
     ]
    },
    {
     "data": {
      "image/png": "[encoded data removed]",
      "text/plain": [
       "<Figure size 1000x700 with 2 Axes>"
      ]
     },
     "metadata": {},
     "output_type": "display_data"
    },
    {
     "name": "stdout",
     "output_type": "stream",
     "text": [
      "\n",
      "Cross-Validation Scores:\n",
      "Cross-Validation Accuracy Scores: [0.54545455 0.63636364 0.59259259 0.59259259 0.57407407]\n",
      "Mean Accuracy: 0.59 ± 0.03\n"
     ]
    }
   ],
   "source": [
    "# Extract the best model from GridSearchCV\n",
    "best_model = grid_search.best_estimator_\n",
    "\n",
    "# Predict on the test set\n",
    "y_pred = best_model.predict(X_test_matrix)  # Use X_test_matrix instead of X_test\n",
    "\n",
    "# Print classification report\n",
    "print(f\"\\nClassification Report for Best Model:\")\n",
    "print(classification_report(y_test, y_pred))\n",
    "\n",
    "# Compute and print accuracy, precision, recall, and F1-score\n",
    "accuracy = accuracy_score(y_test, y_pred)\n",
    "precision = precision_score(y_test, y_pred, average='weighted')\n",
    "recall = recall_score(y_test, y_pred, average='weighted')\n",
    "f1 = f1_score(y_test, y_pred, average='weighted')\n",
    "\n",
    "print(f\"\\nAccuracy: {accuracy:.2f}\")\n",
    "print(f\"Precision: {precision:.2f}\")\n",
    "print(f\"Recall: {recall:.2f}\")\n",
    "print(f\"F1 Score: {f1:.2f}\")\n",
    "\n",
    "# Compute confusion matrix\n",
    "conf_matrix = confusion_matrix(y_test, y_pred)\n",
    "\n",
    "# Plot confusion matrix\n",
    "plt.figure(figsize=(10, 7))\n",
    "sns.heatmap(conf_matrix, annot=True, fmt='d', cmap='Blues', \n",
    "            xticklabels=best_model.classes_, yticklabels=best_model.classes_)\n",
    "plt.xlabel('Predicted Labels')\n",
    "plt.ylabel('True Labels')\n",
    "plt.title('Confusion Matrix')\n",
    "plt.show()\n",
    "\n",
    "# Perform cross-validation\n",
    "print(\"\\nCross-Validation Scores:\")\n",
    "cross_val_scores = cross_val_score(best_model, X_train_matrix, y_train, cv=StratifiedKFold(n_splits=5))  # Use X_train_matrix\n",
    "print(f\"Cross-Validation Accuracy Scores: {cross_val_scores}\")\n",
    "print(f\"Mean Accuracy: {np.mean(cross_val_scores):.2f} ± {np.std(cross_val_scores):.2f}\")"
   ]
  },
  {
   "cell_type": "markdown",
   "id": "9a094bfe-6008-44aa-abd7-df6859ed046e",
   "metadata": {},
   "source": [
    "## 7.2. Dimensionality Reduction - CNN\n",
    "\n",
    "For a resume dataset, using Convolutional Neural Networks (CNNs) for dimensionality reduction involves exploiting the network's capability to capture local patterns within the text. Unlike linear methods like Latent Semantic Analysis (LSA), which simplifies text data by reducing dimensionality through global patterns, CNNs apply convolutional filters to the text, identifying important local features such as specific phrases or n-grams. These features are then aggregated to form a compact text representation, capturing more nuanced information about the content. This method can enhance the quality of the reduced features by preserving significant textual patterns that linear approaches might overlook, potentially improving the performance of downstream tasks like classification or clustering."
   ]
  },
  {
   "cell_type": "markdown",
   "id": "b1fc494c-2c6f-4501-8158-110024137d8b",
   "metadata": {},
   "source": [
    "#### 7.2.1 Classification Process"
   ]
  },
  {
   "cell_type": "code",
   "execution_count": 79,
   "id": "9b6b1491-a814-4669-9cb0-29011e6d606a",
   "metadata": {},
   "outputs": [],
   "source": [
    "#### Scaling and Reshaping\n",
    "\n",
    "# Standardize the data before applying the CNN\n",
    "scaler = StandardScaler()\n",
    "X_train_scaled = scaler.fit_transform(X_train_dense)  # Use dense data\n",
    "X_test_scaled = scaler.transform(X_test_dense)  # Use dense data\n",
    "\n",
    "# Reshape the data for CNN (samples, timesteps, features)\n",
    "X_train_reshaped = X_train_scaled.reshape((X_train_scaled.shape[0], X_train_scaled.shape[1], 1))\n",
    "X_test_reshaped = X_test_scaled.reshape((X_test_scaled.shape[0], X_test_scaled.shape[1], 1))"
   ]
  },
  {
   "cell_type": "markdown",
   "id": "6afe07ad-bfbd-4448-8476-3eb9b1704586",
   "metadata": {},
   "source": [
    "#### 7.2.2 Define the CNN Model"
   ]
  },
  {
   "cell_type": "code",
   "execution_count": 81,
   "id": "582df054-6f39-4bd2-928e-71fadf29dd07",
   "metadata": {},
   "outputs": [],
   "source": [
    "encoding_dim = 50  # Number of dimensions to reduce to\n",
    "\n",
    "# Use Input layer to define the input shape\n",
    "input_layer = Input(shape=(X_train_reshaped.shape[1], X_train_reshaped.shape[2]))\n",
    "\n",
    "# Build the CNN layers\n",
    "x = Conv1D(64, kernel_size=3, activation='relu')(input_layer)\n",
    "x = GlobalMaxPooling1D()(x)  # This layer reduces the dimensionality significantly\n",
    "encoded = Dense(encoding_dim, activation='relu')(x)  # Encoded representation\n",
    "decoded = Dense(X_train_scaled.shape[1], activation='linear')(encoded)  # Reconstruct the original input dimension\n",
    "\n",
    "# Define the full model\n",
    "model = Model(inputs=input_layer, outputs=decoded)\n",
    "\n",
    "# Compile the model with mean squared error loss\n",
    "model.compile(optimizer='adam', loss='mse')"
   ]
  },
  {
   "cell_type": "markdown",
   "id": "bd7449c0-2f97-4268-8be0-628b04b1c9fb",
   "metadata": {},
   "source": [
    "#### 7.2.3 CNN Model Optimization"
   ]
  },
  {
   "cell_type": "code",
   "execution_count": 83,
   "id": "6bb5f8d4-f7b1-410c-842d-386a893a21e4",
   "metadata": {},
   "outputs": [
    {
     "name": "stdout",
     "output_type": "stream",
     "text": [
      "Epoch 1/50\n",
      "\u001b[1m1/1\u001b[0m \u001b[32m━━━━━━━━━━━━━━━━━━━━\u001b[0m\u001b[37m\u001b[0m \u001b[1m1s\u001b[0m 1s/step - loss: 1.0394 - val_loss: 1.0154\n",
      "Epoch 2/50\n",
      "\u001b[1m1/1\u001b[0m \u001b[32m━━━━━━━━━━━━━━━━━━━━\u001b[0m\u001b[37m\u001b[0m \u001b[1m0s\u001b[0m 206ms/step - loss: 1.0300 - val_loss: 1.0095\n",
      "Epoch 3/50\n",
      "\u001b[1m1/1\u001b[0m \u001b[32m━━━━━━━━━━━━━━━━━━━━\u001b[0m\u001b[37m\u001b[0m \u001b[1m0s\u001b[0m 134ms/step - loss: 1.0230 - val_loss: 1.0051\n",
      "Epoch 4/50\n",
      "\u001b[1m1/1\u001b[0m \u001b[32m━━━━━━━━━━━━━━━━━━━━\u001b[0m\u001b[37m\u001b[0m \u001b[1m0s\u001b[0m 126ms/step - loss: 1.0176 - val_loss: 1.0018\n",
      "Epoch 5/50\n",
      "\u001b[1m1/1\u001b[0m \u001b[32m━━━━━━━━━━━━━━━━━━━━\u001b[0m\u001b[37m\u001b[0m \u001b[1m0s\u001b[0m 120ms/step - loss: 1.0136 - val_loss: 0.9994\n",
      "Epoch 6/50\n",
      "\u001b[1m1/1\u001b[0m \u001b[32m━━━━━━━━━━━━━━━━━━━━\u001b[0m\u001b[37m\u001b[0m \u001b[1m0s\u001b[0m 117ms/step - loss: 1.0106 - val_loss: 0.9976\n",
      "Epoch 7/50\n",
      "\u001b[1m1/1\u001b[0m \u001b[32m━━━━━━━━━━━━━━━━━━━━\u001b[0m\u001b[37m\u001b[0m \u001b[1m0s\u001b[0m 131ms/step - loss: 1.0084 - val_loss: 0.9963\n",
      "Epoch 8/50\n",
      "\u001b[1m1/1\u001b[0m \u001b[32m━━━━━━━━━━━━━━━━━━━━\u001b[0m\u001b[37m\u001b[0m \u001b[1m0s\u001b[0m 134ms/step - loss: 1.0067 - val_loss: 0.9955\n",
      "Epoch 9/50\n",
      "\u001b[1m1/1\u001b[0m \u001b[32m━━━━━━━━━━━━━━━━━━━━\u001b[0m\u001b[37m\u001b[0m \u001b[1m0s\u001b[0m 126ms/step - loss: 1.0055 - val_loss: 0.9949\n",
      "Epoch 10/50\n",
      "\u001b[1m1/1\u001b[0m \u001b[32m━━━━━━━━━━━━━━━━━━━━\u001b[0m\u001b[37m\u001b[0m \u001b[1m0s\u001b[0m 124ms/step - loss: 1.0045 - val_loss: 0.9944\n",
      "Epoch 11/50\n",
      "\u001b[1m1/1\u001b[0m \u001b[32m━━━━━━━━━━━━━━━━━━━━\u001b[0m\u001b[37m\u001b[0m \u001b[1m0s\u001b[0m 123ms/step - loss: 1.0038 - val_loss: 0.9942\n",
      "Epoch 12/50\n",
      "\u001b[1m1/1\u001b[0m \u001b[32m━━━━━━━━━━━━━━━━━━━━\u001b[0m\u001b[37m\u001b[0m \u001b[1m0s\u001b[0m 139ms/step - loss: 1.0033 - val_loss: 0.9940\n",
      "Epoch 13/50\n",
      "\u001b[1m1/1\u001b[0m \u001b[32m━━━━━━━━━━━━━━━━━━━━\u001b[0m\u001b[37m\u001b[0m \u001b[1m0s\u001b[0m 288ms/step - loss: 1.0028 - val_loss: 0.9939\n",
      "Epoch 14/50\n",
      "\u001b[1m1/1\u001b[0m \u001b[32m━━━━━━━━━━━━━━━━━━━━\u001b[0m\u001b[37m\u001b[0m \u001b[1m0s\u001b[0m 120ms/step - loss: 1.0025 - val_loss: 0.9938\n",
      "Epoch 15/50\n",
      "\u001b[1m1/1\u001b[0m \u001b[32m━━━━━━━━━━━━━━━━━━━━\u001b[0m\u001b[37m\u001b[0m \u001b[1m0s\u001b[0m 133ms/step - loss: 1.0022 - val_loss: 0.9937\n",
      "Epoch 16/50\n",
      "\u001b[1m1/1\u001b[0m \u001b[32m━━━━━━━━━━━━━━━━━━━━\u001b[0m\u001b[37m\u001b[0m \u001b[1m0s\u001b[0m 152ms/step - loss: 1.0020 - val_loss: 0.9937\n",
      "Epoch 17/50\n",
      "\u001b[1m1/1\u001b[0m \u001b[32m━━━━━━━━━━━━━━━━━━━━\u001b[0m\u001b[37m\u001b[0m \u001b[1m0s\u001b[0m 216ms/step - loss: 1.0018 - val_loss: 0.9937\n",
      "Epoch 18/50\n",
      "\u001b[1m1/1\u001b[0m \u001b[32m━━━━━━━━━━━━━━━━━━━━\u001b[0m\u001b[37m\u001b[0m \u001b[1m0s\u001b[0m 122ms/step - loss: 1.0016 - val_loss: 0.9936\n",
      "Epoch 19/50\n",
      "\u001b[1m1/1\u001b[0m \u001b[32m━━━━━━━━━━━━━━━━━━━━\u001b[0m\u001b[37m\u001b[0m \u001b[1m0s\u001b[0m 161ms/step - loss: 1.0014 - val_loss: 0.9936\n",
      "Epoch 20/50\n",
      "\u001b[1m1/1\u001b[0m \u001b[32m━━━━━━━━━━━━━━━━━━━━\u001b[0m\u001b[37m\u001b[0m \u001b[1m0s\u001b[0m 120ms/step - loss: 1.0013 - val_loss: 0.9936\n",
      "Epoch 21/50\n",
      "\u001b[1m1/1\u001b[0m \u001b[32m━━━━━━━━━━━━━━━━━━━━\u001b[0m\u001b[37m\u001b[0m \u001b[1m0s\u001b[0m 128ms/step - loss: 1.0012 - val_loss: 0.9936\n",
      "Epoch 22/50\n",
      "\u001b[1m1/1\u001b[0m \u001b[32m━━━━━━━━━━━━━━━━━━━━\u001b[0m\u001b[37m\u001b[0m \u001b[1m0s\u001b[0m 122ms/step - loss: 1.0010 - val_loss: 0.9937\n",
      "Epoch 23/50\n",
      "\u001b[1m1/1\u001b[0m \u001b[32m━━━━━━━━━━━━━━━━━━━━\u001b[0m\u001b[37m\u001b[0m \u001b[1m0s\u001b[0m 120ms/step - loss: 1.0009 - val_loss: 0.9937\n",
      "Epoch 24/50\n",
      "\u001b[1m1/1\u001b[0m \u001b[32m━━━━━━━━━━━━━━━━━━━━\u001b[0m\u001b[37m\u001b[0m \u001b[1m0s\u001b[0m 119ms/step - loss: 1.0008 - val_loss: 0.9938\n",
      "Epoch 25/50\n",
      "\u001b[1m1/1\u001b[0m \u001b[32m━━━━━━━━━━━━━━━━━━━━\u001b[0m\u001b[37m\u001b[0m \u001b[1m0s\u001b[0m 132ms/step - loss: 1.0007 - val_loss: 0.9939\n",
      "Epoch 26/50\n",
      "\u001b[1m1/1\u001b[0m \u001b[32m━━━━━━━━━━━━━━━━━━━━\u001b[0m\u001b[37m\u001b[0m \u001b[1m0s\u001b[0m 127ms/step - loss: 1.0006 - val_loss: 0.9940\n",
      "Epoch 27/50\n",
      "\u001b[1m1/1\u001b[0m \u001b[32m━━━━━━━━━━━━━━━━━━━━\u001b[0m\u001b[37m\u001b[0m \u001b[1m0s\u001b[0m 131ms/step - loss: 1.0005 - val_loss: 0.9942\n",
      "Epoch 28/50\n",
      "\u001b[1m1/1\u001b[0m \u001b[32m━━━━━━━━━━━━━━━━━━━━\u001b[0m\u001b[37m\u001b[0m \u001b[1m0s\u001b[0m 138ms/step - loss: 1.0004 - val_loss: 0.9944\n",
      "Epoch 29/50\n",
      "\u001b[1m1/1\u001b[0m \u001b[32m━━━━━━━━━━━━━━━━━━━━\u001b[0m\u001b[37m\u001b[0m \u001b[1m0s\u001b[0m 217ms/step - loss: 1.0002 - val_loss: 0.9945\n",
      "Epoch 30/50\n",
      "\u001b[1m1/1\u001b[0m \u001b[32m━━━━━━━━━━━━━━━━━━━━\u001b[0m\u001b[37m\u001b[0m \u001b[1m0s\u001b[0m 130ms/step - loss: 1.0001 - val_loss: 0.9946\n",
      "Epoch 31/50\n",
      "\u001b[1m1/1\u001b[0m \u001b[32m━━━━━━━━━━━━━━━━━━━━\u001b[0m\u001b[37m\u001b[0m \u001b[1m0s\u001b[0m 119ms/step - loss: 1.0000 - val_loss: 0.9948\n",
      "Epoch 32/50\n",
      "\u001b[1m1/1\u001b[0m \u001b[32m━━━━━━━━━━━━━━━━━━━━\u001b[0m\u001b[37m\u001b[0m \u001b[1m0s\u001b[0m 124ms/step - loss: 0.9998 - val_loss: 0.9949\n",
      "Epoch 33/50\n",
      "\u001b[1m1/1\u001b[0m \u001b[32m━━━━━━━━━━━━━━━━━━━━\u001b[0m\u001b[37m\u001b[0m \u001b[1m0s\u001b[0m 134ms/step - loss: 0.9997 - val_loss: 0.9950\n",
      "Epoch 34/50\n",
      "\u001b[1m1/1\u001b[0m \u001b[32m━━━━━━━━━━━━━━━━━━━━\u001b[0m\u001b[37m\u001b[0m \u001b[1m0s\u001b[0m 121ms/step - loss: 0.9996 - val_loss: 0.9951\n",
      "Epoch 35/50\n",
      "\u001b[1m1/1\u001b[0m \u001b[32m━━━━━━━━━━━━━━━━━━━━\u001b[0m\u001b[37m\u001b[0m \u001b[1m0s\u001b[0m 133ms/step - loss: 0.9994 - val_loss: 0.9952\n",
      "Epoch 36/50\n",
      "\u001b[1m1/1\u001b[0m \u001b[32m━━━━━━━━━━━━━━━━━━━━\u001b[0m\u001b[37m\u001b[0m \u001b[1m0s\u001b[0m 129ms/step - loss: 0.9993 - val_loss: 0.9954\n",
      "Epoch 37/50\n",
      "\u001b[1m1/1\u001b[0m \u001b[32m━━━━━━━━━━━━━━━━━━━━\u001b[0m\u001b[37m\u001b[0m \u001b[1m0s\u001b[0m 132ms/step - loss: 0.9991 - val_loss: 0.9956\n",
      "Epoch 38/50\n",
      "\u001b[1m1/1\u001b[0m \u001b[32m━━━━━━━━━━━━━━━━━━━━\u001b[0m\u001b[37m\u001b[0m \u001b[1m0s\u001b[0m 129ms/step - loss: 0.9990 - val_loss: 0.9958\n",
      "Epoch 39/50\n",
      "\u001b[1m1/1\u001b[0m \u001b[32m━━━━━━━━━━━━━━━━━━━━\u001b[0m\u001b[37m\u001b[0m \u001b[1m0s\u001b[0m 129ms/step - loss: 0.9988 - val_loss: 0.9959\n",
      "Epoch 40/50\n",
      "\u001b[1m1/1\u001b[0m \u001b[32m━━━━━━━━━━━━━━━━━━━━\u001b[0m\u001b[37m\u001b[0m \u001b[1m0s\u001b[0m 124ms/step - loss: 0.9987 - val_loss: 0.9961\n",
      "Epoch 41/50\n",
      "\u001b[1m1/1\u001b[0m \u001b[32m━━━━━━━━━━━━━━━━━━━━\u001b[0m\u001b[37m\u001b[0m \u001b[1m0s\u001b[0m 119ms/step - loss: 0.9985 - val_loss: 0.9963\n",
      "Epoch 42/50\n",
      "\u001b[1m1/1\u001b[0m \u001b[32m━━━━━━━━━━━━━━━━━━━━\u001b[0m\u001b[37m\u001b[0m \u001b[1m0s\u001b[0m 139ms/step - loss: 0.9983 - val_loss: 0.9964\n",
      "Epoch 43/50\n",
      "\u001b[1m1/1\u001b[0m \u001b[32m━━━━━━━━━━━━━━━━━━━━\u001b[0m\u001b[37m\u001b[0m \u001b[1m0s\u001b[0m 121ms/step - loss: 0.9982 - val_loss: 0.9966\n",
      "Epoch 44/50\n",
      "\u001b[1m1/1\u001b[0m \u001b[32m━━━━━━━━━━━━━━━━━━━━\u001b[0m\u001b[37m\u001b[0m \u001b[1m0s\u001b[0m 132ms/step - loss: 0.9980 - val_loss: 0.9967\n",
      "Epoch 45/50\n",
      "\u001b[1m1/1\u001b[0m \u001b[32m━━━━━━━━━━━━━━━━━━━━\u001b[0m\u001b[37m\u001b[0m \u001b[1m0s\u001b[0m 132ms/step - loss: 0.9978 - val_loss: 0.9968\n",
      "Epoch 46/50\n",
      "\u001b[1m1/1\u001b[0m \u001b[32m━━━━━━━━━━━━━━━━━━━━\u001b[0m\u001b[37m\u001b[0m \u001b[1m0s\u001b[0m 120ms/step - loss: 0.9976 - val_loss: 0.9970\n",
      "Epoch 47/50\n",
      "\u001b[1m1/1\u001b[0m \u001b[32m━━━━━━━━━━━━━━━━━━━━\u001b[0m\u001b[37m\u001b[0m \u001b[1m0s\u001b[0m 357ms/step - loss: 0.9975 - val_loss: 0.9971\n",
      "Epoch 48/50\n",
      "\u001b[1m1/1\u001b[0m \u001b[32m━━━━━━━━━━━━━━━━━━━━\u001b[0m\u001b[37m\u001b[0m \u001b[1m0s\u001b[0m 154ms/step - loss: 0.9973 - val_loss: 0.9972\n",
      "Epoch 49/50\n",
      "\u001b[1m1/1\u001b[0m \u001b[32m━━━━━━━━━━━━━━━━━━━━\u001b[0m\u001b[37m\u001b[0m \u001b[1m0s\u001b[0m 139ms/step - loss: 0.9971 - val_loss: 0.9973\n",
      "Epoch 50/50\n",
      "\u001b[1m1/1\u001b[0m \u001b[32m━━━━━━━━━━━━━━━━━━━━\u001b[0m\u001b[37m\u001b[0m \u001b[1m0s\u001b[0m 131ms/step - loss: 0.9969 - val_loss: 0.9975\n",
      "\u001b[1m9/9\u001b[0m \u001b[32m━━━━━━━━━━━━━━━━━━━━\u001b[0m\u001b[37m\u001b[0m \u001b[1m0s\u001b[0m 8ms/step\n",
      "\u001b[1m3/3\u001b[0m \u001b[32m━━━━━━━━━━━━━━━━━━━━\u001b[0m\u001b[37m\u001b[0m \u001b[1m0s\u001b[0m 6ms/step \n",
      "X_train_reduced.shape = (272, 50)\n",
      "X_test_reduced.shape = (91, 50)\n"
     ]
    }
   ],
   "source": [
    "# Train the CNN\n",
    "model.fit(X_train_reshaped, X_train_scaled, epochs=50, batch_size=256, validation_split=0.2, shuffle=True)\n",
    "\n",
    "# Create the encoder model to output the reduced representation\n",
    "encoder = Model(inputs=input_layer, outputs=encoded)\n",
    "X_train_reduced = encoder.predict(X_train_reshaped)\n",
    "X_test_reduced = encoder.predict(X_test_reshaped)\n",
    "\n",
    "# Check the shape of the reduced data\n",
    "print(f\"X_train_reduced.shape = {X_train_reduced.shape}\")\n",
    "print(f\"X_test_reduced.shape = {X_test_reduced.shape}\")"
   ]
  },
  {
   "cell_type": "markdown",
   "id": "648358a3-d112-4d0c-aa28-75aed538a558",
   "metadata": {},
   "source": [
    "## 7.3 Dimensionality Reduction - PCA \n",
    "\n",
    "For a resume dataset, using Principal Component Analysis (PCA) combined with Naive Bayes for dimensionality reduction involves first applying PCA to reduce the dimensionality of the text data. PCA transforms the data into a set of principal components that capture the most variance in the dataset, effectively condensing the features into a smaller number of dimensions while retaining key information. After dimensionality reduction, Naive Bayes is used as a classification algorithm to make predictions based on these reduced features. This approach leverages PCA’s ability to simplify the data and reduce noise, while Naive Bayes provides probabilistic classification based on the principal components, which can improve model efficiency and accuracy by focusing on the most relevant features for distinguishing between resume categories."
   ]
  },
  {
   "cell_type": "code",
   "execution_count": 85,
   "id": "f3fdb813-1f2d-4921-b594-ce2fd0296e05",
   "metadata": {},
   "outputs": [],
   "source": [
    "# Create the pipeline `pipe_hyp_opt` with PCA and Naive Bayes\n",
    "pipe_hyp_opt = Pipeline([\n",
    "        ('dimension_reducer', PCA())  # Dimensionality reduction step\n",
    "        ])\n",
    "\n",
    "# Define the range for PCA components and set up hyperparameter grid\n",
    "n_components_range = np.arange(1, 6, 1)\n",
    "hyp_grid = [\n",
    "    {\n",
    "        'dimension_reducer__n_components': n_components_range  # Hyperparameters for PCA\n",
    "    }\n",
    "]"
   ]
  },
  {
   "cell_type": "markdown",
   "id": "c590b6b1-ab9d-4428-94c2-2bc72df3fe8b",
   "metadata": {},
   "source": [
    "# 8. Classification"
   ]
  },
  {
   "cell_type": "markdown",
   "id": "de6d0d9f-3dbb-4825-83f7-b9ce2215f749",
   "metadata": {},
   "source": [
    "Classification is the process of assigning resumes to specific job-related categories based on their content. After applying dimensionality reduction techniques to the text data, we use:\n",
    "\n",
    "- **Logistic Regression** for classification after reducing dimensionality with Convolutional Neural Networks (**CNN**).\n",
    "- **Naive Bayes** for classification following dimensionality reduction with Principal Component Analysis (**PCA**)."
   ]
  },
  {
   "cell_type": "markdown",
   "id": "95c66d3b-7fa7-4b70-8a5e-fa73aa99f156",
   "metadata": {},
   "source": [
    "#### 8.1 CNN (using Logistic Regression)"
   ]
  },
  {
   "cell_type": "code",
   "execution_count": 89,
   "id": "faecbb11-e2ae-46ae-b194-fbb17d279ca8",
   "metadata": {},
   "outputs": [
    {
     "name": "stdout",
     "output_type": "stream",
     "text": [
      "Best regularization parameter: 1\n",
      "Time taken for grid search: 0.73 seconds\n",
      "Best score achieved during the grid search: 0.4191245791245791\n"
     ]
    }
   ],
   "source": [
    "# Define the machine learning pipeline with autoencoder-based dimensionality reduction and classification\n",
    "pipe = Pipeline([\n",
    "    ('clf', LogisticRegression(max_iter=1000))  # Classification model\n",
    "])\n",
    "\n",
    "# Define parameter grid for GridSearchCV (only tuning the classifier since the autoencoder has been pre-trained)\n",
    "param_grid = {\n",
    "    'clf__C': [0.01, 0.1, 1, 10, 100]  # Regularization strength for Logistic Regression\n",
    "}\n",
    "\n",
    "# Start timing the execution\n",
    "start_time = time.time()\n",
    "\n",
    "# Perform GridSearchCV with StratifiedKFold cross-validation\n",
    "grid_search = GridSearchCV(pipe, param_grid, cv=StratifiedKFold(n_splits=5))\n",
    "grid_search.fit(X_train_reduced, y_train)  # Fit the grid search to the reduced training data\n",
    "\n",
    "# End timing the execution\n",
    "end_time = time.time()\n",
    "elapsed_time = end_time - start_time  # Calculate the elapsed time\n",
    "\n",
    "# Print the best parameters, time taken, and best score\n",
    "print(f\"Best regularization parameter: {grid_search.best_params_['clf__C']}\")\n",
    "print(f\"Time taken for grid search: {elapsed_time:.2f} seconds\")\n",
    "print(f\"Best score achieved during the grid search: {grid_search.best_score_}\")"
   ]
  },
  {
   "cell_type": "markdown",
   "id": "96f00025-4eb1-43f6-877d-6debd137c750",
   "metadata": {},
   "source": [
    "#### 8.2. Model Evaluation - CNN (using Logistic Regression)"
   ]
  },
  {
   "cell_type": "code",
   "execution_count": 91,
   "id": "9cb78909-3c2b-42a2-8bc7-c8070bfb3b0a",
   "metadata": {},
   "outputs": [
    {
     "name": "stdout",
     "output_type": "stream",
     "text": [
      "\n",
      "Classification Report for Best Model:\n",
      "                             precision    recall  f1-score   support\n",
      "\n",
      "             Clinical Roles       1.00      1.00      1.00         6\n",
      "    Data Science & Analysis       0.00      0.00      0.00         3\n",
      "          Engineering Roles       0.71      0.87      0.78        46\n",
      "  Facilities and Operations       0.00      0.00      0.00         4\n",
      "Information Technology (IT)       0.48      0.79      0.59        14\n",
      "                 Management       0.00      0.00      0.00         2\n",
      "             Research Roles       0.00      0.00      0.00         2\n",
      "  Software Development & QA       0.00      0.00      0.00         1\n",
      "          Technical Support       0.50      0.23      0.32        13\n",
      "\n",
      "                   accuracy                           0.66        91\n",
      "                  macro avg       0.30      0.32      0.30        91\n",
      "               weighted avg       0.57      0.66      0.60        91\n",
      "\n",
      "\n",
      "Accuracy: 0.66\n",
      "Precision: 0.57\n",
      "Recall: 0.66\n",
      "F1 Score: 0.60\n"
     ]
    },
    {
     "data": {
      "image/png": "[encoded data removed]",
      "text/plain": [
       "<Figure size 1000x700 with 2 Axes>"
      ]
     },
     "metadata": {},
     "output_type": "display_data"
    }
   ],
   "source": [
    "# Using 'X_train' and 'y_train' from previous steps\n",
    "# Fit the GridSearchCV object using 'X_train_scaled' and 'y_train'\n",
    "grid_search.fit(X_train_scaled, y_train)  # Use the scaled training data\n",
    "\n",
    "# Extract the best model from GridSearchCV\n",
    "best_model = grid_search.best_estimator_\n",
    "\n",
    "# Predict on the scaled test set\n",
    "y_pred = best_model.predict(X_test_scaled)  # Use the scaled test data\n",
    "\n",
    "# Print classification report\n",
    "print(f\"\\nClassification Report for Best Model:\")\n",
    "print(classification_report(y_test, y_pred))\n",
    "\n",
    "# Compute and print accuracy, precision, recall, and F1-score\n",
    "accuracy = accuracy_score(y_test, y_pred)\n",
    "precision = precision_score(y_test, y_pred, average='weighted')\n",
    "recall = recall_score(y_test, y_pred, average='weighted')\n",
    "f1 = f1_score(y_test, y_pred, average='weighted')\n",
    "\n",
    "print(f\"\\nAccuracy: {accuracy:.2f}\")\n",
    "print(f\"Precision: {precision:.2f}\")\n",
    "print(f\"Recall: {recall:.2f}\")\n",
    "print(f\"F1 Score: {f1:.2f}\")\n",
    "\n",
    "# Compute confusion matrix\n",
    "conf_matrix = confusion_matrix(y_test, y_pred)\n",
    "\n",
    "# Plot confusion matrix\n",
    "plt.figure(figsize=(10, 7))\n",
    "sns.heatmap(conf_matrix, annot=True, fmt='d', cmap='Blues',\n",
    "            xticklabels=best_model.classes_, yticklabels=best_model.classes_)\n",
    "plt.xlabel('Predicted Labels')\n",
    "plt.ylabel('True Labels')\n",
    "plt.title('Confusion Matrix')\n",
    "plt.show()"
   ]
  },
  {
   "cell_type": "markdown",
   "id": "830c14f5-404a-436d-b4f3-f383dff7b59d",
   "metadata": {},
   "source": [
    "#### 8.2. Model Evaluation - PCA (using Naive Bayes)"
   ]
  },
  {
   "cell_type": "code",
   "execution_count": 93,
   "id": "ea45174e-035d-4e84-837f-7de30f242dd6",
   "metadata": {},
   "outputs": [],
   "source": [
    "# Extend the pipeline `pipe_hyp_opt` to include Naive Bayes\n",
    "pipe_hyp_opt = Pipeline([\n",
    "        ('dimension_reducer', PCA()),  # Dimensionality reduction step\n",
    "        ('predictor', GaussianNB())   # Classification step\n",
    "        ])\n",
    "\n",
    "# Define the range for PCA components and set up hyperparameter grid\n",
    "n_components_range = np.arange(1, 6, 1)\n",
    "hyp_grid = [\n",
    "    {\n",
    "        'dimension_reducer__n_components': n_components_range,  # Hyperparameters for PCA\n",
    "        'predictor': [GaussianNB()]  # Hyperparameters for Naive Bayes\n",
    "    }\n",
    "]"
   ]
  },
  {
   "cell_type": "markdown",
   "id": "d83a26ed-9696-4989-8ea5-67167c349a56",
   "metadata": {},
   "source": [
    "#### 8.1 Hyperparameter Search and Model Evaluation"
   ]
  },
  {
   "cell_type": "code",
   "execution_count": 95,
   "id": "7768e3d1-01b0-436f-98c6-4bd64a574982",
   "metadata": {},
   "outputs": [
    {
     "name": "stdout",
     "output_type": "stream",
     "text": [
      "Fitting 5 folds for each of 5 candidates, totalling 25 fits\n",
      "[CV 1/5] END dimension_reducer__n_components=1, predictor=GaussianNB();, score=nan total time=   0.0s\n",
      "[CV 2/5] END dimension_reducer__n_components=1, predictor=GaussianNB();, score=nan total time=   0.0s\n",
      "[CV 3/5] END dimension_reducer__n_components=1, predictor=GaussianNB();, score=nan total time=   0.0s\n",
      "[CV 4/5] END dimension_reducer__n_components=1, predictor=GaussianNB();, score=nan total time=   0.0s\n",
      "[CV 5/5] END dimension_reducer__n_components=1, predictor=GaussianNB();, score=nan total time=   0.0s\n",
      "[CV 1/5] END dimension_reducer__n_components=2, predictor=GaussianNB();, score=nan total time=   0.0s\n",
      "[CV 2/5] END dimension_reducer__n_components=2, predictor=GaussianNB();, score=nan total time=   0.0s\n",
      "[CV 3/5] END dimension_reducer__n_components=2, predictor=GaussianNB();, score=nan total time=   0.0s\n",
      "[CV 4/5] END dimension_reducer__n_components=2, predictor=GaussianNB();, score=nan total time=   0.0s\n",
      "[CV 5/5] END dimension_reducer__n_components=2, predictor=GaussianNB();, score=nan total time=   0.0s\n",
      "[CV 1/5] END dimension_reducer__n_components=3, predictor=GaussianNB();, score=nan total time=   0.0s\n",
      "[CV 2/5] END dimension_reducer__n_components=3, predictor=GaussianNB();, score=nan total time=   0.0s\n",
      "[CV 3/5] END dimension_reducer__n_components=3, predictor=GaussianNB();, score=nan total time=   0.0s\n",
      "[CV 4/5] END dimension_reducer__n_components=3, predictor=GaussianNB();, score=nan total time=   0.0s\n",
      "[CV 5/5] END dimension_reducer__n_components=3, predictor=GaussianNB();, score=nan total time=   0.0s\n",
      "[CV 1/5] END dimension_reducer__n_components=4, predictor=GaussianNB();, score=nan total time=   0.0s\n",
      "[CV 2/5] END dimension_reducer__n_components=4, predictor=GaussianNB();, score=nan total time=   0.0s\n",
      "[CV 3/5] END dimension_reducer__n_components=4, predictor=GaussianNB();, score=nan total time=   0.0s\n",
      "[CV 4/5] END dimension_reducer__n_components=4, predictor=GaussianNB();, score=nan total time=   0.0s\n",
      "[CV 5/5] END dimension_reducer__n_components=4, predictor=GaussianNB();, score=nan total time=   0.0s\n",
      "[CV 1/5] END dimension_reducer__n_components=5, predictor=GaussianNB();, score=nan total time=   0.0s\n",
      "[CV 2/5] END dimension_reducer__n_components=5, predictor=GaussianNB();, score=nan total time=   0.0s\n",
      "[CV 3/5] END dimension_reducer__n_components=5, predictor=GaussianNB();, score=nan total time=   0.0s\n",
      "[CV 4/5] END dimension_reducer__n_components=5, predictor=GaussianNB();, score=nan total time=   0.0s\n",
      "[CV 5/5] END dimension_reducer__n_components=5, predictor=GaussianNB();, score=nan total time=   0.0s\n"
     ]
    },
    {
     "ename": "ValueError",
     "evalue": "\nAll the 25 fits failed.\nIt is very likely that your model is misconfigured.\nYou can try to debug the error by setting error_score='raise'.\n\nBelow are more details about the failures:\n--------------------------------------------------------------------------------\n25 fits failed with the following error:\nTraceback (most recent call last):\n  File \"/opt/anaconda3/lib/python3.11/site-packages/sklearn/model_selection/_validation.py\", line 686, in _fit_and_score\n    estimator.fit(X_train, y_train, **fit_params)\n  File \"/opt/anaconda3/lib/python3.11/site-packages/sklearn/pipeline.py\", line 401, in fit\n    Xt = self._fit(X, y, **fit_params_steps)\n         ^^^^^^^^^^^^^^^^^^^^^^^^^^^^^^^^^^^\n  File \"/opt/anaconda3/lib/python3.11/site-packages/sklearn/pipeline.py\", line 359, in _fit\n    X, fitted_transformer = fit_transform_one_cached(\n                            ^^^^^^^^^^^^^^^^^^^^^^^^^\n  File \"/opt/anaconda3/lib/python3.11/site-packages/joblib/memory.py\", line 349, in __call__\n    return self.func(*args, **kwargs)\n           ^^^^^^^^^^^^^^^^^^^^^^^^^^\n  File \"/opt/anaconda3/lib/python3.11/site-packages/sklearn/pipeline.py\", line 893, in _fit_transform_one\n    res = transformer.fit_transform(X, y, **fit_params)\n          ^^^^^^^^^^^^^^^^^^^^^^^^^^^^^^^^^^^^^^^^^^^^^\n  File \"/opt/anaconda3/lib/python3.11/site-packages/sklearn/utils/_set_output.py\", line 140, in wrapped\n    data_to_wrap = f(self, X, *args, **kwargs)\n                   ^^^^^^^^^^^^^^^^^^^^^^^^^^^\n  File \"/opt/anaconda3/lib/python3.11/site-packages/sklearn/decomposition/_pca.py\", line 462, in fit_transform\n    U, S, Vt = self._fit(X)\n               ^^^^^^^^^^^^\n  File \"/opt/anaconda3/lib/python3.11/site-packages/sklearn/decomposition/_pca.py\", line 480, in _fit\n    raise TypeError(\nTypeError: PCA does not support sparse input. See TruncatedSVD for a possible alternative.\n",
     "output_type": "error",
     "traceback": [
      "\u001b[0;31m---------------------------------------------------------------------------\u001b[0m",
      "\u001b[0;31mValueError\u001b[0m                                Traceback (most recent call last)",
      "Cell \u001b[0;32mIn[95], line 8\u001b[0m\n\u001b[1;32m      5\u001b[0m start_time \u001b[38;5;241m=\u001b[39m time\u001b[38;5;241m.\u001b[39mtime()\n\u001b[1;32m      7\u001b[0m \u001b[38;5;66;03m# Launch hyperparameter search\u001b[39;00m\n\u001b[0;32m----> 8\u001b[0m gridsearch \u001b[38;5;241m=\u001b[39m GridSearchCV(pipe_hyp_opt, hyp_grid, cv\u001b[38;5;241m=\u001b[39mcv, verbose\u001b[38;5;241m=\u001b[39m\u001b[38;5;241m3\u001b[39m)\u001b[38;5;241m.\u001b[39mfit(X_train_matrix, y_train)\n\u001b[1;32m     10\u001b[0m \u001b[38;5;66;03m# End time measurement\u001b[39;00m\n\u001b[1;32m     11\u001b[0m end_time \u001b[38;5;241m=\u001b[39m time\u001b[38;5;241m.\u001b[39mtime()\n",
      "File \u001b[0;32m/opt/anaconda3/lib/python3.11/site-packages/sklearn/model_selection/_search.py:874\u001b[0m, in \u001b[0;36mBaseSearchCV.fit\u001b[0;34m(self, X, y, groups, **fit_params)\u001b[0m\n\u001b[1;32m    868\u001b[0m     results \u001b[38;5;241m=\u001b[39m \u001b[38;5;28mself\u001b[39m\u001b[38;5;241m.\u001b[39m_format_results(\n\u001b[1;32m    869\u001b[0m         all_candidate_params, n_splits, all_out, all_more_results\n\u001b[1;32m    870\u001b[0m     )\n\u001b[1;32m    872\u001b[0m     \u001b[38;5;28;01mreturn\u001b[39;00m results\n\u001b[0;32m--> 874\u001b[0m \u001b[38;5;28mself\u001b[39m\u001b[38;5;241m.\u001b[39m_run_search(evaluate_candidates)\n\u001b[1;32m    876\u001b[0m \u001b[38;5;66;03m# multimetric is determined here because in the case of a callable\u001b[39;00m\n\u001b[1;32m    877\u001b[0m \u001b[38;5;66;03m# self.scoring the return type is only known after calling\u001b[39;00m\n\u001b[1;32m    878\u001b[0m first_test_score \u001b[38;5;241m=\u001b[39m all_out[\u001b[38;5;241m0\u001b[39m][\u001b[38;5;124m\"\u001b[39m\u001b[38;5;124mtest_scores\u001b[39m\u001b[38;5;124m\"\u001b[39m]\n",
      "File \u001b[0;32m/opt/anaconda3/lib/python3.11/site-packages/sklearn/model_selection/_search.py:1388\u001b[0m, in \u001b[0;36mGridSearchCV._run_search\u001b[0;34m(self, evaluate_candidates)\u001b[0m\n\u001b[1;32m   1386\u001b[0m \u001b[38;5;28;01mdef\u001b[39;00m \u001b[38;5;21m_run_search\u001b[39m(\u001b[38;5;28mself\u001b[39m, evaluate_candidates):\n\u001b[1;32m   1387\u001b[0m \u001b[38;5;250m    \u001b[39m\u001b[38;5;124;03m\"\"\"Search all candidates in param_grid\"\"\"\u001b[39;00m\n\u001b[0;32m-> 1388\u001b[0m     evaluate_candidates(ParameterGrid(\u001b[38;5;28mself\u001b[39m\u001b[38;5;241m.\u001b[39mparam_grid))\n",
      "File \u001b[0;32m/opt/anaconda3/lib/python3.11/site-packages/sklearn/model_selection/_search.py:851\u001b[0m, in \u001b[0;36mBaseSearchCV.fit.<locals>.evaluate_candidates\u001b[0;34m(candidate_params, cv, more_results)\u001b[0m\n\u001b[1;32m    844\u001b[0m \u001b[38;5;28;01melif\u001b[39;00m \u001b[38;5;28mlen\u001b[39m(out) \u001b[38;5;241m!=\u001b[39m n_candidates \u001b[38;5;241m*\u001b[39m n_splits:\n\u001b[1;32m    845\u001b[0m     \u001b[38;5;28;01mraise\u001b[39;00m \u001b[38;5;167;01mValueError\u001b[39;00m(\n\u001b[1;32m    846\u001b[0m         \u001b[38;5;124m\"\u001b[39m\u001b[38;5;124mcv.split and cv.get_n_splits returned \u001b[39m\u001b[38;5;124m\"\u001b[39m\n\u001b[1;32m    847\u001b[0m         \u001b[38;5;124m\"\u001b[39m\u001b[38;5;124minconsistent results. Expected \u001b[39m\u001b[38;5;132;01m{}\u001b[39;00m\u001b[38;5;124m \u001b[39m\u001b[38;5;124m\"\u001b[39m\n\u001b[1;32m    848\u001b[0m         \u001b[38;5;124m\"\u001b[39m\u001b[38;5;124msplits, got \u001b[39m\u001b[38;5;132;01m{}\u001b[39;00m\u001b[38;5;124m\"\u001b[39m\u001b[38;5;241m.\u001b[39mformat(n_splits, \u001b[38;5;28mlen\u001b[39m(out) \u001b[38;5;241m/\u001b[39m\u001b[38;5;241m/\u001b[39m n_candidates)\n\u001b[1;32m    849\u001b[0m     )\n\u001b[0;32m--> 851\u001b[0m _warn_or_raise_about_fit_failures(out, \u001b[38;5;28mself\u001b[39m\u001b[38;5;241m.\u001b[39merror_score)\n\u001b[1;32m    853\u001b[0m \u001b[38;5;66;03m# For callable self.scoring, the return type is only know after\u001b[39;00m\n\u001b[1;32m    854\u001b[0m \u001b[38;5;66;03m# calling. If the return type is a dictionary, the error scores\u001b[39;00m\n\u001b[1;32m    855\u001b[0m \u001b[38;5;66;03m# can now be inserted with the correct key. The type checking\u001b[39;00m\n\u001b[1;32m    856\u001b[0m \u001b[38;5;66;03m# of out will be done in `_insert_error_scores`.\u001b[39;00m\n\u001b[1;32m    857\u001b[0m \u001b[38;5;28;01mif\u001b[39;00m \u001b[38;5;28mcallable\u001b[39m(\u001b[38;5;28mself\u001b[39m\u001b[38;5;241m.\u001b[39mscoring):\n",
      "File \u001b[0;32m/opt/anaconda3/lib/python3.11/site-packages/sklearn/model_selection/_validation.py:367\u001b[0m, in \u001b[0;36m_warn_or_raise_about_fit_failures\u001b[0;34m(results, error_score)\u001b[0m\n\u001b[1;32m    360\u001b[0m \u001b[38;5;28;01mif\u001b[39;00m num_failed_fits \u001b[38;5;241m==\u001b[39m num_fits:\n\u001b[1;32m    361\u001b[0m     all_fits_failed_message \u001b[38;5;241m=\u001b[39m (\n\u001b[1;32m    362\u001b[0m         \u001b[38;5;124mf\u001b[39m\u001b[38;5;124m\"\u001b[39m\u001b[38;5;130;01m\\n\u001b[39;00m\u001b[38;5;124mAll the \u001b[39m\u001b[38;5;132;01m{\u001b[39;00mnum_fits\u001b[38;5;132;01m}\u001b[39;00m\u001b[38;5;124m fits failed.\u001b[39m\u001b[38;5;130;01m\\n\u001b[39;00m\u001b[38;5;124m\"\u001b[39m\n\u001b[1;32m    363\u001b[0m         \u001b[38;5;124m\"\u001b[39m\u001b[38;5;124mIt is very likely that your model is misconfigured.\u001b[39m\u001b[38;5;130;01m\\n\u001b[39;00m\u001b[38;5;124m\"\u001b[39m\n\u001b[1;32m    364\u001b[0m         \u001b[38;5;124m\"\u001b[39m\u001b[38;5;124mYou can try to debug the error by setting error_score=\u001b[39m\u001b[38;5;124m'\u001b[39m\u001b[38;5;124mraise\u001b[39m\u001b[38;5;124m'\u001b[39m\u001b[38;5;124m.\u001b[39m\u001b[38;5;130;01m\\n\u001b[39;00m\u001b[38;5;130;01m\\n\u001b[39;00m\u001b[38;5;124m\"\u001b[39m\n\u001b[1;32m    365\u001b[0m         \u001b[38;5;124mf\u001b[39m\u001b[38;5;124m\"\u001b[39m\u001b[38;5;124mBelow are more details about the failures:\u001b[39m\u001b[38;5;130;01m\\n\u001b[39;00m\u001b[38;5;132;01m{\u001b[39;00mfit_errors_summary\u001b[38;5;132;01m}\u001b[39;00m\u001b[38;5;124m\"\u001b[39m\n\u001b[1;32m    366\u001b[0m     )\n\u001b[0;32m--> 367\u001b[0m     \u001b[38;5;28;01mraise\u001b[39;00m \u001b[38;5;167;01mValueError\u001b[39;00m(all_fits_failed_message)\n\u001b[1;32m    369\u001b[0m \u001b[38;5;28;01melse\u001b[39;00m:\n\u001b[1;32m    370\u001b[0m     some_fits_failed_message \u001b[38;5;241m=\u001b[39m (\n\u001b[1;32m    371\u001b[0m         \u001b[38;5;124mf\u001b[39m\u001b[38;5;124m\"\u001b[39m\u001b[38;5;130;01m\\n\u001b[39;00m\u001b[38;5;132;01m{\u001b[39;00mnum_failed_fits\u001b[38;5;132;01m}\u001b[39;00m\u001b[38;5;124m fits failed out of a total of \u001b[39m\u001b[38;5;132;01m{\u001b[39;00mnum_fits\u001b[38;5;132;01m}\u001b[39;00m\u001b[38;5;124m.\u001b[39m\u001b[38;5;130;01m\\n\u001b[39;00m\u001b[38;5;124m\"\u001b[39m\n\u001b[1;32m    372\u001b[0m         \u001b[38;5;124m\"\u001b[39m\u001b[38;5;124mThe score on these train-test partitions for these parameters\u001b[39m\u001b[38;5;124m\"\u001b[39m\n\u001b[0;32m   (...)\u001b[0m\n\u001b[1;32m    376\u001b[0m         \u001b[38;5;124mf\u001b[39m\u001b[38;5;124m\"\u001b[39m\u001b[38;5;124mBelow are more details about the failures:\u001b[39m\u001b[38;5;130;01m\\n\u001b[39;00m\u001b[38;5;132;01m{\u001b[39;00mfit_errors_summary\u001b[38;5;132;01m}\u001b[39;00m\u001b[38;5;124m\"\u001b[39m\n\u001b[1;32m    377\u001b[0m     )\n",
      "\u001b[0;31mValueError\u001b[0m: \nAll the 25 fits failed.\nIt is very likely that your model is misconfigured.\nYou can try to debug the error by setting error_score='raise'.\n\nBelow are more details about the failures:\n--------------------------------------------------------------------------------\n25 fits failed with the following error:\nTraceback (most recent call last):\n  File \"/opt/anaconda3/lib/python3.11/site-packages/sklearn/model_selection/_validation.py\", line 686, in _fit_and_score\n    estimator.fit(X_train, y_train, **fit_params)\n  File \"/opt/anaconda3/lib/python3.11/site-packages/sklearn/pipeline.py\", line 401, in fit\n    Xt = self._fit(X, y, **fit_params_steps)\n         ^^^^^^^^^^^^^^^^^^^^^^^^^^^^^^^^^^^\n  File \"/opt/anaconda3/lib/python3.11/site-packages/sklearn/pipeline.py\", line 359, in _fit\n    X, fitted_transformer = fit_transform_one_cached(\n                            ^^^^^^^^^^^^^^^^^^^^^^^^^\n  File \"/opt/anaconda3/lib/python3.11/site-packages/joblib/memory.py\", line 349, in __call__\n    return self.func(*args, **kwargs)\n           ^^^^^^^^^^^^^^^^^^^^^^^^^^\n  File \"/opt/anaconda3/lib/python3.11/site-packages/sklearn/pipeline.py\", line 893, in _fit_transform_one\n    res = transformer.fit_transform(X, y, **fit_params)\n          ^^^^^^^^^^^^^^^^^^^^^^^^^^^^^^^^^^^^^^^^^^^^^\n  File \"/opt/anaconda3/lib/python3.11/site-packages/sklearn/utils/_set_output.py\", line 140, in wrapped\n    data_to_wrap = f(self, X, *args, **kwargs)\n                   ^^^^^^^^^^^^^^^^^^^^^^^^^^^\n  File \"/opt/anaconda3/lib/python3.11/site-packages/sklearn/decomposition/_pca.py\", line 462, in fit_transform\n    U, S, Vt = self._fit(X)\n               ^^^^^^^^^^^^\n  File \"/opt/anaconda3/lib/python3.11/site-packages/sklearn/decomposition/_pca.py\", line 480, in _fit\n    raise TypeError(\nTypeError: PCA does not support sparse input. See TruncatedSVD for a possible alternative.\n"
     ]
    }
   ],
   "source": [
    "# Specify cross-validation strategy\n",
    "cv = StratifiedKFold(n_splits=5, shuffle=True, random_state=7052024)\n",
    "\n",
    "# Start time measurement\n",
    "start_time = time.time()\n",
    "\n",
    "# Launch hyperparameter search\n",
    "gridsearch = GridSearchCV(pipe_hyp_opt, hyp_grid, cv=cv, verbose=3).fit(X_train_matrix, y_train)\n",
    "\n",
    "# End time measurement\n",
    "end_time = time.time()\n",
    "\n",
    "# Print the elapsed time\n",
    "print('\\nTime taken for GridSearchCV: {:.2f} seconds'.format(end_time - start_time))\n",
    "\n",
    "# Print the testing score\n",
    "print('Testing score is: ', gridsearch.score(X_test_matrix, y_test))"
   ]
  },
  {
   "cell_type": "markdown",
   "id": "d7ded226-90c2-4d10-884f-e2e1991cf28b",
   "metadata": {},
   "source": [
    "#### 8.2 Print Best Hyperparameters and Scores"
   ]
  },
  {
   "cell_type": "code",
   "execution_count": null,
   "id": "c0174006-c09c-4401-a944-6092ed4f7b96",
   "metadata": {},
   "outputs": [],
   "source": [
    "# Best hyperparameters\n",
    "print(f\"Best parameters: {gridsearch.best_params_}\")\n",
    "# Retrieve the best validation score\n",
    "print(f\"Best Score: {gridsearch.best_score_}\")"
   ]
  },
  {
   "cell_type": "markdown",
   "id": "45723b43-f37c-492d-8267-f1d2a24e0978",
   "metadata": {},
   "source": [
    "#### 8.3 Create and Display Results DataFrame"
   ]
  },
  {
   "cell_type": "code",
   "execution_count": null,
   "id": "7c6bbc9e-e324-4490-864c-96b630bfe793",
   "metadata": {},
   "outputs": [],
   "source": [
    "# Create DataFrame of results\n",
    "\n",
    "gridsearch_results_df = pd.DataFrame(gridsearch.cv_results_).sort_values(by='rank_test_score')\n",
    "param_columns = [col for col in gridsearch_results_df.columns if col.startswith('param_')]\n",
    "gridsearch_results_columns = param_columns + ['mean_test_score', 'std_test_score', 'rank_test_score']\n",
    "gridsearch_results_df[gridsearch_results_columns].reset_index(drop=True)"
   ]
  },
  {
   "cell_type": "markdown",
   "id": "387d17be-fa56-4369-8434-d310d42029ac",
   "metadata": {},
   "source": [
    "#### 8.45 Retrieve and Evaluate Best Pipeline"
   ]
  },
  {
   "cell_type": "code",
   "execution_count": null,
   "id": "0249b783-25e4-4d05-8be0-50311c9f7edf",
   "metadata": {},
   "outputs": [],
   "source": [
    "# Retrieve best pipeline\n",
    "pipeline_optimized = gridsearch.best_estimator_\n",
    "\n",
    "# Score Check\n",
    "print('Training score = ', pipeline_optimized.score(X_train_matrix, y_train))\n",
    "print('Testing score = ', pipeline_optimized.score(X_test_matrix, y_test))"
   ]
  },
  {
   "cell_type": "markdown",
   "id": "9ae72e0b-5cea-42be-9ac0-5a7ec7dfa63d",
   "metadata": {},
   "source": [
    "#### 8.5 Make Predictions and Display Confusion Matrix"
   ]
  },
  {
   "cell_type": "code",
   "execution_count": null,
   "id": "d394131e-188d-4399-a5a7-66b5ccb009d4",
   "metadata": {},
   "outputs": [],
   "source": [
    "# Make predictions on the test set\n",
    "y_pred_pipeline_optimized = pipeline_optimized.predict(X_test_matrix)\n",
    "\n",
    "# Compute and display confusion matrix\n",
    "cm_gbc = confusion_matrix(y_test, y_pred_pipeline_optimized, labels=pipeline_optimized.classes_)\n",
    "ConfusionMatrixDisplay(confusion_matrix=cm_gbc).plot()\n",
    "plt.show()"
   ]
  },
  {
   "cell_type": "markdown",
   "id": "335318b9-4c06-4b6d-b3ce-bc9fcf156347",
   "metadata": {},
   "source": [
    "#### 8.6 Make Predictions and Display Confusion Matrix"
   ]
  },
  {
   "cell_type": "code",
   "execution_count": null,
   "id": "a07f57ca-717a-4a7a-a52a-f25bc631b071",
   "metadata": {},
   "outputs": [],
   "source": [
    "# Make predictions on the test set\n",
    "y_pred_pipeline_optimized = pipeline_optimized.predict(X_test_matrix)\n",
    "\n",
    "# Compute and display confusion matrix\n",
    "cm_gbc = confusion_matrix(y_test, y_pred_pipeline_optimized, labels=pipeline_optimized.classes_)\n",
    "ConfusionMatrixDisplay(confusion_matrix=cm_gbc).plot()\n",
    "plt.show()"
   ]
  },
  {
   "cell_type": "markdown",
   "id": "a5ad27a5-24c2-44b5-a2f8-621fab3aa60a",
   "metadata": {},
   "source": [
    "#### 8.7 Re-Test Gaussian Bayes Classifier with Categories (> 20)"
   ]
  },
  {
   "cell_type": "code",
   "execution_count": null,
   "id": "252812cb-1066-47b8-b5ef-55f903a22356",
   "metadata": {},
   "outputs": [],
   "source": [
    "# Filter resumes to limited categories and repeat processing\n",
    "biggest = ['Engineering Roles', 'Information Technology (IT)', 'Technical Support', 'Clinical Roles']\n",
    "resumes_df_limited = resumes_df.loc[resumes_df['Resume Category'].isin(biggest)]\n",
    "resumes_limited = resumes_df_limited.to_numpy()\n",
    "\n",
    "# NLP processes for limited categories\n",
    "resumes_detokenized_limited = [preprocess(resume_content) for resume_content in resumes_limited[:,1]]\n",
    "vectorizer_tfidf_limited = TfidfVectorizer(max_features=1000, use_idf=True, sublinear_tf=True, smooth_idf=True, min_df=0.013, max_df=0.95)\n",
    "X_matrix_limited = vectorizer_tfidf_limited.fit_transform(resumes_detokenized_limited)\n",
    "terms_tfidf_limited = np.array(vectorizer_tfidf_limited.get_feature_names_out())\n",
    "X_limited = X_matrix_limited.toarray()\n",
    "\n",
    "# Split data and re-launch hyperparameter search\n",
    "[X_train_limited, X_test_limited, indices_train_limited, indices_test_limited] = train_test_split(X_limited, np.arange(len(X_limited)), test_size=0.25, random_state=0)\n",
    "y_train_limited = resumes_limited[indices_train_limited, 0]\n",
    "y_test_limited = resumes_limited[indices_test_limited, 0]\n",
    "\n",
    "print(len(X_limited))\n",
    "\n",
    "# Start measuring time\n",
    "start_time = time.time()\n",
    "\n",
    "# Launch hyperparameter search\n",
    "gridsearch_limited = GridSearchCV(pipe_hyp_opt, hyp_grid, cv=cv, verbose=3).fit(X_train_limited, y_train_limited)\n",
    "\n",
    "# End measuring time\n",
    "end_time = time.time()\n",
    "\n",
    "print('Testing score is: ', gridsearch_limited.score(X_test_limited, y_test_limited))\n",
    "\n",
    "# Best hyperparameters\n",
    "print(f\"Best parameters: {gridsearch_limited.best_params_}\")\n",
    "print(f\"Best Score: {gridsearch_limited.best_score_}\")\n",
    "\n",
    "# Evaluate and display results\n",
    "pipeline_optimized_limited = gridsearch_limited.best_estimator_\n",
    "print('\\nTraining score = ', pipeline_optimized_limited.score(X_train_limited, y_train_limited))\n",
    "print('Testing score = ', pipeline_optimized_limited.score(X_test_limited, y_test_limited))\n",
    "\n",
    "# Calculate and print the execution time\n",
    "print(f\"Execution time: {end_time - start_time:.2f} seconds\")\n",
    "\n",
    "# Make predictions and display confusion matrix\n",
    "y_pred_pipeline_optimized_limited = pipeline_optimized_limited.predict(X_test_limited)\n",
    "cm_gbc_limited = confusion_matrix(y_test_limited, y_pred_pipeline_optimized_limited, labels=pipeline_optimized_limited.classes_)\n",
    "ConfusionMatrixDisplay(confusion_matrix=cm_gbc_limited).plot()\n",
    "plt.show()\n"
   ]
  },
  {
   "cell_type": "markdown",
   "id": "4e162f88-d5b4-450c-bf9c-4c8dd4ee5029",
   "metadata": {},
   "source": [
    "# 9. Final Model Deployment"
   ]
  },
  {
   "cell_type": "code",
   "execution_count": null,
   "id": "63d24b56-8cbd-4ef2-96cf-26e2fee0c120",
   "metadata": {},
   "outputs": [],
   "source": [
    "# Save the best model from GridSearchCV to a file\n",
    "joblib_file = \"best_model_joblib.pkl\"\n",
    "joblib.dump(best_model, joblib_file)\n",
    "\n",
    "print(f\"Model saved to {joblib_file}\")"
   ]
  },
  {
   "cell_type": "markdown",
   "id": "a139454d",
   "metadata": {},
   "source": [
    "# 10. Results"
   ]
  },
  {
   "cell_type": "markdown",
   "id": "f2e7bcfa-eae4-41c4-9df6-e932ce7464ce",
   "metadata": {},
   "source": [
    "#### 10.1 Class Distribution"
   ]
  },
  {
   "cell_type": "markdown",
   "id": "bdf14b86-7637-4dd6-acc6-5009cb2960c5",
   "metadata": {},
   "source": [
    "- The dataset shows an imbalanced class distribution:\n",
    "  - **Engineering Roles:** 157 resumes\n",
    "  - **Information Technology (IT):** 73 resumes\n",
    "  - **Technical Support:** 41 resumes\n",
    "  - **Clinical Roles:** 31 resumes\n",
    "  - **Facilities and Operations:** 18 resumes\n",
    "  - **Management:** 15 resumes\n",
    "  - **Data Science & Analysis:** 11 resumes\n",
    "  - **Research Roles:** 8 resumes\n",
    "  - **Software Development & QA:** 5 resumes\n",
    "  - **Sales & Marketing:** 2 resumes\n",
    "  - **Creative Roles:** 2 resumes"
   ]
  },
  {
   "cell_type": "markdown",
   "id": "07b1d9ad-baf8-46d7-9686-9c9324f624e5",
   "metadata": {},
   "source": [
    "#### 10.2 Text Vectorization"
   ]
  },
  {
   "cell_type": "markdown",
   "id": "ae17999f-dea2-4fbc-bc47-793abb30e080",
   "metadata": {},
   "source": [
    "- Resumes were vectorized into a matrix of **1000 features per document**. \n",
    "- Sample tokens include terms such as `ability`, `work`, and `years`, with varying counts across resumes."
   ]
  },
  {
   "cell_type": "markdown",
   "id": "1930fb1e-1db2-4303-a7b3-77da3030063f",
   "metadata": {},
   "source": [
    "# 11. Model Comparison"
   ]
  },
  {
   "cell_type": "markdown",
   "id": "f269f37d-92f1-4c4d-bd58-66bc2e658439",
   "metadata": {},
   "source": [
    "## 11.1 LSA (TruncatedSVD) Results"
   ]
  },
  {
   "cell_type": "markdown",
   "id": "c4c3e606-f9e8-434a-9b68-f885432943b4",
   "metadata": {},
   "source": [
    "**First Run**\n",
    "\n",
    "| Metric                                         | Value                           |\n",
    "|------------------------------------------------|---------------------------------|\n",
    "| **Best parameters**                           | `{'svd__n_components': 110}`     |\n",
    "| **Time taken**                                | 37.89 seconds                   |\n",
    "| **Best score achieved during the grid search**| 0.632                           |\n",
    "\n",
    "\n",
    "**Second Run:**\n",
    "\n",
    "| Metric                                         | Value                           |\n",
    "|------------------------------------------------|---------------------------------|\n",
    "| **Number of components (best)**                | 101                             |\n",
    "| **Time taken**                                | 21.56 seconds                   |\n",
    "| **Best score achieved during the grid search**| 0.632                           |\n",
    "\n",
    "\n",
    "**Third Run:**\n",
    "\n",
    "| Metric                                         | Value           |\n",
    "|------------------------------------------------|-----------------|\n",
    "| **Number of components (best)**                | 6               |\n",
    "| **Time taken**                                | 9.87 seconds    |\n",
    "| **Best score achieved during the grid search**| 0.599           |\n",
    "\n",
    "\n",
    "**Classification Report for Best Model:**\n",
    "\n",
    "| Metric                     | Clinical Roles | Data Science & Analysis | Engineering Roles | Accuracy | Macro Avg | Weighted Avg |\n",
    "|----------------------------|----------------|-------------------------|-------------------|----------|-----------|--------------|\n",
    "| **Precision**              | 0.86           | 0.00                    | 0.67              |          | 0.22      | 0.47         |\n",
    "| **Recall**                 | 1.00           | 0.00                    | 0.80              |          | 0.29      | 0.59         |\n",
    "| **F1-Score**               | 0.92           | 0.00                    | 0.73              |          | 0.25      | 0.52         |\n",
    "| **Support**                | 6              | 3                       | 46                | 0.59     | 91        | 91           |\n",
    "\n",
    ".  \n",
    ".  \n",
    "**Model Performance Metrics**\n",
    "| Metric      | Value |\n",
    "|-------------|-------|\n",
    "| **Accuracy**| 0.59  |\n",
    "| **Precision**| 0.47  |\n",
    "| **Recall**  | 0.59  |\n",
    "| **F1 Score**| 0.52  |"
   ]
  },
  {
   "cell_type": "markdown",
   "id": "3e3a92c2-e495-4705-b46f-ba6280928225",
   "metadata": {},
   "source": [
    "## 11.2 CNN Results"
   ]
  },
  {
   "cell_type": "markdown",
   "id": "811541d3-1f30-41f0-bf4d-9b1826246717",
   "metadata": {},
   "source": [
    "**Best Regularization Parameter:**\n",
    "\n",
    "| Metric                                    | Value       |\n",
    "|-------------------------------------------|-------------|\n",
    "| Best parameter                           | 1           |\n",
    "| Time taken for grid search               | 0.67 seconds |\n",
    "| Best score achieved during the grid search | 0.415       |\n",
    "\n",
    "\n",
    "\n",
    "**Classification Report for Best Model:**\n",
    "\n",
    "\n",
    "| Category                         | Precision | Recall | F1-Score | Support |\n",
    "|----------------------------------|-----------|--------|----------|---------|\n",
    "| Clinical Roles                   | 1.00      | 1.00   | 1.00     | 6       |\n",
    "| Data Science & Analysis          | 0.00      | 0.00   | 0.00     | 3       |\n",
    "| Engineering Roles                | 0.71      | 0.87   | 0.78     | 46      |\n",
    "| **Accuracy**                     |           |        |          | 91      |\n",
    "| **Macro Avg**                    | 0.30      | 0.32   | 0.30     | 91      |\n",
    "| **Weighted Avg**                 | 0.57    \n",
    "\n",
    "\n",
    " **Model Performance Metrics**\n",
    "\n",
    "| Metric      | Value |\n",
    "|-------------|-------|\n",
    "| Accuracy    | 0.66  |\n",
    "| Precision   | 0.57  |\n",
    "| Recall      | 0.66  |\n",
    "| F1 Score    | 0.60  |\n",
    "\n"
   ]
  },
  {
   "cell_type": "markdown",
   "id": "d9cae1b4-056f-4f7d-8f1e-25c28f9e0428",
   "metadata": {},
   "source": [
    "## 11.3 PCA with Naive Bayes"
   ]
  },
  {
   "cell_type": "markdown",
   "id": "254b996a-38e2-4a3c-bd7c-bd8a87a6a718",
   "metadata": {},
   "source": [
    "**First Run:**\n",
    "\n",
    "\n",
    "| Metric                                         | Value                                       |\n",
    "|------------------------------------------------|---------------------------------------------|\n",
    "| **Time taken for GridSearchCV**                | 1.06 seconds                                |\n",
    "| **Testing score**                              | 0.560                                       |\n",
    "| **Best parameters**                           | `{'dimension_reducer__n_components': 2, 'predictor': GaussianNB()}` |\n",
    "| **Best Score**                                | 0.596                                       |\n",
    "| **Training score**                            | 0.625                                       |\n",
    "| **Testing score**                             | 0.560                                       |\n",
    "\n",
    "**Second Run:**\n",
    "\n",
    "\n",
    "| Metric                                         | Value                                       |\n",
    "|------------------------------------------------|---------------------------------------------|\n",
    "| **Time taken for GridSearchCV**                | 1.20 seconds                                |\n",
    "| **Testing score**                              | 0.658                                       |\n",
    "| **Best parameters**                           | `{'dimension_reducer__n_components': 2, 'predictor': GaussianNB()}` |\n",
    "| **Best Score**                                | 0.734                                       |\n",
    "| **Training score**                            | 0.770                                       |\n",
    "| **Testing score**                             | 0.658                                       |\n"
   ]
  },
  {
   "cell_type": "markdown",
   "id": "f51ffef0-c6e1-43b6-9c54-41398d49559d",
   "metadata": {},
   "source": [
    "## 11.4 Conclusion"
   ]
  },
  {
   "cell_type": "markdown",
   "id": "8dc88f4e-1360-4bb8-bcbd-9c158c27cb64",
   "metadata": {},
   "source": [
    "**Efficiency:**\n",
    "\n",
    "- The Convolutional Neural Network (CNN) demonstrated notably faster grid search times than Latent Semantic Analysis (LSA) and PCA with Naive Bayes. Specifically, the grid search for CNN took only 0.67 seconds, while LSA required up to 37.89 seconds in its initial run, and PCA with Naive Bayes took between 1.06 and 1.20 seconds. This efficiency reflects CNN's capability to optimize hyperparameters more swiftly, potentially due to its architecture and the pre-training of the autoencoder model used for dimensionality reduction. This faster grid search indicates a more streamlined tuning process and suggests that CNN's model setup is computationally more efficient, reducing the time and resources required for model optimization.\n",
    "\n",
    "**Performance:**\n",
    "\n",
    "- The CNN outperformed LSA across several key metrics. The CNN achieved an accuracy of 66% compared to LSA's 59%, reflecting its superior ability to classify data correctly. Additionally, the CNN demonstrated higher precision, recall, and F1 Score, with values of 0.57, 0.66, and 0.60, respectively, compared to LSA's 0.47, 0.59, and 0.52. These improved metrics suggest that the CNN model is more effective in distinguishing between classes, particularly in cases where accurate classification is crucial.\n",
    "\n",
    "- PCA with Naive Bayes showed mixed results. The first run of PCA with Naive Bayes had a testing score of 0.560 and a best score of 0.596, with a training score of 0.625. The second run improved to a testing score of 0.658 and a best score of 0.734, with a training score of 0.770. While PCA with Naive Bayes demonstrated competitive performance, especially in the second run, the CNN still surpassed it in overall accuracy and efficiency. The results highlight that PCA with Naive Bayes can offer a balance between computational efficiency and classification performance but did not outperform CNN in the context of this dataset.\n"
   ]
  },
  {
   "cell_type": "code",
   "execution_count": null,
   "id": "94ac7053-dcb8-4347-a813-c2aa46b7ed19",
   "metadata": {},
   "outputs": [],
   "source": []
  }
 ],
 "metadata": {
  "kernelspec": {
   "display_name": "Python 3 (ipykernel)",
   "language": "python",
   "name": "python3"
  },
  "language_info": {
   "codemirror_mode": {
    "name": "ipython",
    "version": 3
   },
   "file_extension": ".py",
   "mimetype": "text/x-python",
   "name": "python",
   "nbconvert_exporter": "python",
   "pygments_lexer": "ipython3",
   "version": "3.11.7"
  }
 },
 "nbformat": 4,
 "nbformat_minor": 5
}
